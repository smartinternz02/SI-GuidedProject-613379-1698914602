{
  "cells": [
    {
      "cell_type": "code",
      "execution_count": null,
      "metadata": {
        "id": "Y8rJxzvZrp4K"
      },
      "outputs": [],
      "source": [
        "#importing dataset from kaggle\n",
        "!mkdir -p ~/.kaggle\n",
        "!cp kaggle.json ~/.kaggle/"
      ]
    },
    {
      "cell_type": "code",
      "execution_count": null,
      "metadata": {
        "colab": {
          "base_uri": "https://localhost:8080/"
        },
        "id": "7W13xRgjr0a1",
        "outputId": "7e18a60b-7efc-4819-dd63-760531adbd03"
      },
      "outputs": [
        {
          "output_type": "stream",
          "name": "stdout",
          "text": [
            "Warning: Your Kaggle API key is readable by other users on this system! To fix this, you can run 'chmod 600 /root/.kaggle/kaggle.json'\n",
            "Downloading skin-cancer-malignant-vs-benign.zip to /content\n",
            "100% 324M/325M [00:14<00:00, 25.7MB/s]\n",
            "100% 325M/325M [00:14<00:00, 23.1MB/s]\n"
          ]
        }
      ],
      "source": [
        "#downloading dataset from kaggle\n",
        "!kaggle datasets download -d fanconic/skin-cancer-malignant-vs-benign"
      ]
    },
    {
      "cell_type": "code",
      "execution_count": null,
      "metadata": {
        "id": "fftqiLJwr9WM"
      },
      "outputs": [],
      "source": [
        "#extracting dataset from zip file by unzipping\n",
        "import zipfile\n",
        "a = zipfile.ZipFile('/content/skin-cancer-malignant-vs-benign.zip','r')\n",
        "a.extractall('/content')\n",
        "a.close()"
      ]
    },
    {
      "cell_type": "code",
      "execution_count": null,
      "metadata": {
        "id": "rmc0aFcXsDUY"
      },
      "outputs": [],
      "source": [
        "#importing libraries\n",
        "#numpy for arrays\n",
        "import numpy as np\n",
        "#pandas for data analaysis\n",
        "import pandas as pd\n",
        "#os for directories\n",
        "import os\n",
        "#matplot for displaying images and plotting images\n",
        "import matplotlib.pyplot as plt\n",
        "import seaborn as sns\n",
        "#glob is used for files and determing path\n",
        "from glob import glob\n",
        "#random seed to generate random values. Sending images to training\n",
        "np.random.seed(21)\n"
      ]
    },
    {
      "cell_type": "code",
      "execution_count": null,
      "metadata": {
        "id": "31BFJe-lsjur",
        "colab": {
          "base_uri": "https://localhost:8080/"
        },
        "outputId": "6726b8ee-6e65-4ad6-a272-5151bb605256"
      },
      "outputs": [
        {
          "output_type": "execute_result",
          "data": {
            "text/plain": [
              "list"
            ]
          },
          "metadata": {},
          "execution_count": 5
        }
      ],
      "source": [
        "from PIL import Image\n",
        "#load the training and testing files\n",
        "directory_benign_train = '/content/train/benign'\n",
        "directory_malignant_train = '/content/train/malignant'\n",
        "directory_benign_test = '/content/test/benign'\n",
        "directory_malignant_test = '/content/test/malignant'\n",
        "read = lambda imname: np.asarray(Image.open(imname).convert('RGB').resize((32,32)))\n",
        "\n",
        "#reading files\n",
        "img_benign_train = [read(os.path.join(directory_benign_train, filename)) for filename in os.listdir(directory_benign_train)]\n",
        "img_malignant_train = [read(os.path.join(directory_malignant_train, filename)) for filename in os.listdir(directory_malignant_train)]\n",
        "\n",
        "\n",
        "img_benign_test = [read(os.path.join(directory_benign_test, filename)) for filename in os.listdir(directory_benign_test)]\n",
        "img_malignant_test = [read(os.path.join(directory_malignant_test, filename)) for filename in os.listdir(directory_malignant_test)]\n",
        "\n",
        "type(img_benign_train)"
      ]
    },
    {
      "cell_type": "code",
      "execution_count": null,
      "metadata": {
        "id": "E_w5vsVpsrcH",
        "colab": {
          "base_uri": "https://localhost:8080/"
        },
        "outputId": "782a7176-4a79-4e41-e9ef-94c0ff698fc3"
      },
      "outputs": [
        {
          "output_type": "execute_result",
          "data": {
            "text/plain": [
              "numpy.ndarray"
            ]
          },
          "metadata": {},
          "execution_count": 6
        }
      ],
      "source": [
        "#converting images to arrays of unsigned 8 bit integer\n",
        "X_benign_train = np.array(img_benign_train, dtype='uint8')\n",
        "X_malignant_train = np.array(img_malignant_train, dtype='uint8')\n",
        "\n",
        "X_benign_test = np.array(img_benign_test, dtype='uint8')\n",
        "X_malignant_test = np.array(img_malignant_test, dtype='uint8')\n",
        "\n",
        "type(X_benign_train)"
      ]
    },
    {
      "cell_type": "code",
      "execution_count": null,
      "metadata": {
        "id": "O54QYzCCthif",
        "colab": {
          "base_uri": "https://localhost:8080/"
        },
        "outputId": "d916f02d-6170-4247-a829-5ef959a7bd61"
      },
      "outputs": [
        {
          "output_type": "execute_result",
          "data": {
            "text/plain": [
              "array([1., 1., 1., ..., 1., 1., 1.])"
            ]
          },
          "metadata": {},
          "execution_count": 7
        }
      ],
      "source": [
        "#labeling dieases as 1 or 0\n",
        "y_benign_train = np.zeros(X_benign_train.shape[0])\n",
        "y_malignant_train = np.ones(X_malignant_train.shape[0])\n",
        "\n",
        "y_benign_test = np.zeros(X_benign_test.shape[0])\n",
        "y_malignant_test = np.ones(X_malignant_test.shape[0])\n",
        "\n",
        "y_malignant_train"
      ]
    },
    {
      "cell_type": "code",
      "execution_count": null,
      "metadata": {
        "id": "5nyaAR1vtmED",
        "colab": {
          "base_uri": "https://localhost:8080/"
        },
        "outputId": "2891c21d-d116-4dc8-8987-fa5d6968314a"
      },
      "outputs": [
        {
          "output_type": "stream",
          "name": "stdout",
          "text": [
            "Shape of X_train:  (2637, 32, 32, 3)\n",
            "Shape of y_train:  (2637,)\n",
            "Shape of X_test:  (660, 32, 32, 3)\n",
            "Shape of y_test:  (660,)\n"
          ]
        },
        {
          "output_type": "execute_result",
          "data": {
            "text/plain": [
              "array([0., 0., 0., 0., 0., 0., 0., 0., 0., 0., 0., 0., 0., 0., 0., 0., 0.,\n",
              "       0., 0., 0., 0., 0., 0., 0., 0., 0., 0., 0., 0., 0., 0., 0., 0., 0.,\n",
              "       0., 0., 0., 0., 0., 0., 0., 0., 0., 0., 0., 0., 0., 0., 0., 0., 0.,\n",
              "       0., 0., 0., 0., 0., 0., 0., 0., 0., 0., 0., 0., 0., 0., 0., 0., 0.,\n",
              "       0., 0., 0., 0., 0., 0., 0., 0., 0., 0., 0., 0., 0., 0., 0., 0., 0.,\n",
              "       0., 0., 0., 0., 0., 0., 0., 0., 0., 0., 0., 0., 0., 0., 0., 0., 0.,\n",
              "       0., 0., 0., 0., 0., 0., 0., 0., 0., 0., 0., 0., 0., 0., 0., 0., 0.,\n",
              "       0., 0., 0., 0., 0., 0., 0., 0., 0., 0., 0., 0., 0., 0., 0., 0., 0.,\n",
              "       0., 0., 0., 0., 0., 0., 0., 0., 0., 0., 0., 0., 0., 0., 0., 0., 0.,\n",
              "       0., 0., 0., 0., 0., 0., 0., 0., 0., 0., 0., 0., 0., 0., 0., 0., 0.,\n",
              "       0., 0., 0., 0., 0., 0., 0., 0., 0., 0., 0., 0., 0., 0., 0., 0., 0.,\n",
              "       0., 0., 0., 0., 0., 0., 0., 0., 0., 0., 0., 0., 0., 0., 0., 0., 0.,\n",
              "       0., 0., 0., 0., 0., 0., 0., 0., 0., 0., 0., 0., 0., 0., 0., 0., 0.,\n",
              "       0., 0., 0., 0., 0., 0., 0., 0., 0., 0., 0., 0., 0., 0., 0., 0., 0.,\n",
              "       0., 0., 0., 0., 0., 0., 0., 0., 0., 0., 0., 0., 0., 0., 0., 0., 0.,\n",
              "       0., 0., 0., 0., 0., 0., 0., 0., 0., 0., 0., 0., 0., 0., 0., 0., 0.,\n",
              "       0., 0., 0., 0., 0., 0., 0., 0., 0., 0., 0., 0., 0., 0., 0., 0., 0.,\n",
              "       0., 0., 0., 0., 0., 0., 0., 0., 0., 0., 0., 0., 0., 0., 0., 0., 0.,\n",
              "       0., 0., 0., 0., 0., 0., 0., 0., 0., 0., 0., 0., 0., 0., 0., 0., 0.,\n",
              "       0., 0., 0., 0., 0., 0., 0., 0., 0., 0., 0., 0., 0., 0., 0., 0., 0.,\n",
              "       0., 0., 0., 0., 0., 0., 0., 0., 0., 0., 0., 0., 0., 0., 0., 0., 0.,\n",
              "       0., 0., 0., 1., 1., 1., 1., 1., 1., 1., 1., 1., 1., 1., 1., 1., 1.,\n",
              "       1., 1., 1., 1., 1., 1., 1., 1., 1., 1., 1., 1., 1., 1., 1., 1., 1.,\n",
              "       1., 1., 1., 1., 1., 1., 1., 1., 1., 1., 1., 1., 1., 1., 1., 1., 1.,\n",
              "       1., 1., 1., 1., 1., 1., 1., 1., 1., 1., 1., 1., 1., 1., 1., 1., 1.,\n",
              "       1., 1., 1., 1., 1., 1., 1., 1., 1., 1., 1., 1., 1., 1., 1., 1., 1.,\n",
              "       1., 1., 1., 1., 1., 1., 1., 1., 1., 1., 1., 1., 1., 1., 1., 1., 1.,\n",
              "       1., 1., 1., 1., 1., 1., 1., 1., 1., 1., 1., 1., 1., 1., 1., 1., 1.,\n",
              "       1., 1., 1., 1., 1., 1., 1., 1., 1., 1., 1., 1., 1., 1., 1., 1., 1.,\n",
              "       1., 1., 1., 1., 1., 1., 1., 1., 1., 1., 1., 1., 1., 1., 1., 1., 1.,\n",
              "       1., 1., 1., 1., 1., 1., 1., 1., 1., 1., 1., 1., 1., 1., 1., 1., 1.,\n",
              "       1., 1., 1., 1., 1., 1., 1., 1., 1., 1., 1., 1., 1., 1., 1., 1., 1.,\n",
              "       1., 1., 1., 1., 1., 1., 1., 1., 1., 1., 1., 1., 1., 1., 1., 1., 1.,\n",
              "       1., 1., 1., 1., 1., 1., 1., 1., 1., 1., 1., 1., 1., 1., 1., 1., 1.,\n",
              "       1., 1., 1., 1., 1., 1., 1., 1., 1., 1., 1., 1., 1., 1., 1., 1., 1.,\n",
              "       1., 1., 1., 1., 1., 1., 1., 1., 1., 1., 1., 1., 1., 1., 1., 1., 1.,\n",
              "       1., 1., 1., 1., 1., 1., 1., 1., 1., 1., 1., 1., 1., 1., 1., 1., 1.,\n",
              "       1., 1., 1., 1., 1., 1., 1., 1., 1., 1., 1., 1., 1., 1., 1., 1., 1.,\n",
              "       1., 1., 1., 1., 1., 1., 1., 1., 1., 1., 1., 1., 1., 1.])"
            ]
          },
          "metadata": {},
          "execution_count": 8
        }
      ],
      "source": [
        "#combiining all images\n",
        "X_train = np.concatenate((X_benign_train, X_malignant_train), axis=0)\n",
        "y_train = np.concatenate((y_benign_train, y_malignant_train), axis=0)\n",
        "\n",
        "X_test = np.concatenate((X_benign_test, X_malignant_test), axis=0)\n",
        "y_test = np.concatenate((y_benign_test, y_malignant_test), axis=0)\n",
        "\n",
        "print(\"Shape of X_train: \", X_train.shape)\n",
        "print(\"Shape of y_train: \", y_train.shape)\n",
        "print(\"Shape of X_test: \", X_test.shape)\n",
        "print(\"Shape of y_test: \", y_test.shape)\n",
        "\n",
        "y_test"
      ]
    },
    {
      "cell_type": "code",
      "execution_count": null,
      "metadata": {
        "id": "8Dhz-Yp-tqkJ",
        "colab": {
          "base_uri": "https://localhost:8080/"
        },
        "outputId": "179875ac-bb64-4898-d75c-80ff970a1549"
      },
      "outputs": [
        {
          "output_type": "stream",
          "name": "stdout",
          "text": [
            "[[[[182 158 184]\n",
            "   [181 155 178]\n",
            "   [182 155 177]\n",
            "   ...\n",
            "   [180 153 162]\n",
            "   [184 159 182]\n",
            "   [185 163 188]]\n",
            "\n",
            "  [[183 157 182]\n",
            "   [182 153 175]\n",
            "   [181 152 174]\n",
            "   ...\n",
            "   [184 159 177]\n",
            "   [184 162 185]\n",
            "   [186 166 191]]\n",
            "\n",
            "  [[182 157 179]\n",
            "   [181 154 176]\n",
            "   [182 157 181]\n",
            "   ...\n",
            "   [185 163 185]\n",
            "   [184 163 185]\n",
            "   [185 163 184]]\n",
            "\n",
            "  ...\n",
            "\n",
            "  [[178 152 174]\n",
            "   [178 153 174]\n",
            "   [178 152 173]\n",
            "   ...\n",
            "   [181 154 176]\n",
            "   [180 152 174]\n",
            "   [178 151 173]]\n",
            "\n",
            "  [[177 151 173]\n",
            "   [178 151 174]\n",
            "   [178 151 174]\n",
            "   ...\n",
            "   [181 152 175]\n",
            "   [180 150 173]\n",
            "   [179 151 173]]\n",
            "\n",
            "  [[176 151 173]\n",
            "   [177 153 174]\n",
            "   [178 155 176]\n",
            "   ...\n",
            "   [180 155 176]\n",
            "   [179 151 174]\n",
            "   [179 152 174]]]\n",
            "\n",
            "\n",
            " [[[234 155 162]\n",
            "   [234 154 162]\n",
            "   [237 158 166]\n",
            "   ...\n",
            "   [251 177 187]\n",
            "   [253 180 191]\n",
            "   [249 178 189]]\n",
            "\n",
            "  [[233 155 162]\n",
            "   [232 153 160]\n",
            "   [235 156 163]\n",
            "   ...\n",
            "   [251 177 190]\n",
            "   [250 178 187]\n",
            "   [248 178 188]]\n",
            "\n",
            "  [[231 152 158]\n",
            "   [233 154 161]\n",
            "   [236 158 164]\n",
            "   ...\n",
            "   [251 177 190]\n",
            "   [250 177 188]\n",
            "   [249 177 187]]\n",
            "\n",
            "  ...\n",
            "\n",
            "  [[234 170 168]\n",
            "   [237 170 171]\n",
            "   [239 173 174]\n",
            "   ...\n",
            "   [246 182 191]\n",
            "   [243 180 187]\n",
            "   [240 178 185]]\n",
            "\n",
            "  [[234 172 172]\n",
            "   [236 171 173]\n",
            "   [239 174 176]\n",
            "   ...\n",
            "   [243 180 188]\n",
            "   [240 178 185]\n",
            "   [240 179 185]]\n",
            "\n",
            "  [[233 171 171]\n",
            "   [235 172 172]\n",
            "   [239 175 179]\n",
            "   ...\n",
            "   [244 180 187]\n",
            "   [241 178 184]\n",
            "   [240 178 184]]]\n",
            "\n",
            "\n",
            " [[[119 114  86]\n",
            "   [140 135 101]\n",
            "   [146 140 102]\n",
            "   ...\n",
            "   [148 141 116]\n",
            "   [122 113  94]\n",
            "   [ 89  78  65]]\n",
            "\n",
            "  [[135 131 101]\n",
            "   [148 142 109]\n",
            "   [153 149 112]\n",
            "   ...\n",
            "   [156 151 125]\n",
            "   [139 132 109]\n",
            "   [109 100  83]]\n",
            "\n",
            "  [[148 145 114]\n",
            "   [153 149 115]\n",
            "   [157 154 120]\n",
            "   ...\n",
            "   [161 156 128]\n",
            "   [152 146 120]\n",
            "   [130 123 103]]\n",
            "\n",
            "  ...\n",
            "\n",
            "  [[153 144 123]\n",
            "   [159 151 130]\n",
            "   [166 162 142]\n",
            "   ...\n",
            "   [167 166 144]\n",
            "   [163 159 135]\n",
            "   [147 140 117]]\n",
            "\n",
            "  [[150 145 123]\n",
            "   [159 155 133]\n",
            "   [165 162 142]\n",
            "   ...\n",
            "   [165 165 141]\n",
            "   [157 153 129]\n",
            "   [130 123 102]]\n",
            "\n",
            "  [[139 133 110]\n",
            "   [155 152 129]\n",
            "   [161 158 136]\n",
            "   ...\n",
            "   [161 159 134]\n",
            "   [145 140 116]\n",
            "   [112 104  87]]]\n",
            "\n",
            "\n",
            " ...\n",
            "\n",
            "\n",
            " [[[181 107 126]\n",
            "   [183 108 127]\n",
            "   [185 112 131]\n",
            "   ...\n",
            "   [185 118 135]\n",
            "   [183 115 134]\n",
            "   [182 112 131]]\n",
            "\n",
            "  [[181 109 126]\n",
            "   [183 111 129]\n",
            "   [185 114 132]\n",
            "   ...\n",
            "   [183 118 133]\n",
            "   [182 112 128]\n",
            "   [181 112 129]]\n",
            "\n",
            "  [[180 108 125]\n",
            "   [183 111 129]\n",
            "   [185 114 131]\n",
            "   ...\n",
            "   [180 115 131]\n",
            "   [180 111 127]\n",
            "   [180 112 127]]\n",
            "\n",
            "  ...\n",
            "\n",
            "  [[168 103 109]\n",
            "   [169 103 107]\n",
            "   [169 104 109]\n",
            "   ...\n",
            "   [173 108 118]\n",
            "   [169 101 114]\n",
            "   [168 102 114]]\n",
            "\n",
            "  [[167 103 106]\n",
            "   [168 102 106]\n",
            "   [167 100 105]\n",
            "   ...\n",
            "   [171 106 114]\n",
            "   [170 104 115]\n",
            "   [166  99 114]]\n",
            "\n",
            "  [[166 101 105]\n",
            "   [168 103 106]\n",
            "   [166 100 105]\n",
            "   ...\n",
            "   [171 107 116]\n",
            "   [172 108 117]\n",
            "   [168 105 118]]]\n",
            "\n",
            "\n",
            " [[[173 133 140]\n",
            "   [178 141 145]\n",
            "   [185 150 151]\n",
            "   ...\n",
            "   [163 131 144]\n",
            "   [147 114 125]\n",
            "   [140 102 109]]\n",
            "\n",
            "  [[174 136 144]\n",
            "   [178 141 146]\n",
            "   [186 151 155]\n",
            "   ...\n",
            "   [159 125 137]\n",
            "   [131  99 109]\n",
            "   [142 103 109]]\n",
            "\n",
            "  [[174 136 142]\n",
            "   [180 145 149]\n",
            "   [189 155 160]\n",
            "   ...\n",
            "   [161 126 135]\n",
            "   [151 116 127]\n",
            "   [151 115 126]]\n",
            "\n",
            "  ...\n",
            "\n",
            "  [[182 150 155]\n",
            "   [185 152 154]\n",
            "   [189 155 156]\n",
            "   ...\n",
            "   [174 144 144]\n",
            "   [167 134 134]\n",
            "   [161 126 125]]\n",
            "\n",
            "  [[178 146 149]\n",
            "   [183 150 151]\n",
            "   [187 152 152]\n",
            "   ...\n",
            "   [174 144 146]\n",
            "   [165 131 131]\n",
            "   [157 121 120]]\n",
            "\n",
            "  [[175 142 145]\n",
            "   [182 149 151]\n",
            "   [185 151 150]\n",
            "   ...\n",
            "   [172 143 145]\n",
            "   [166 136 136]\n",
            "   [160 128 129]]]\n",
            "\n",
            "\n",
            " [[[208 114 153]\n",
            "   [206 106 152]\n",
            "   [209 115 155]\n",
            "   ...\n",
            "   [222 150 178]\n",
            "   [220 148 177]\n",
            "   [217 146 175]]\n",
            "\n",
            "  [[206 113 153]\n",
            "   [210 116 157]\n",
            "   [210 115 156]\n",
            "   ...\n",
            "   [219 150 175]\n",
            "   [216 146 173]\n",
            "   [214 143 171]]\n",
            "\n",
            "  [[208 118 156]\n",
            "   [211 118 159]\n",
            "   [210 117 159]\n",
            "   ...\n",
            "   [218 149 173]\n",
            "   [216 147 172]\n",
            "   [214 144 169]]\n",
            "\n",
            "  ...\n",
            "\n",
            "  [[210 149 159]\n",
            "   [209 148 159]\n",
            "   [211 151 161]\n",
            "   ...\n",
            "   [203 137 156]\n",
            "   [203 137 156]\n",
            "   [201 138 154]]\n",
            "\n",
            "  [[211 151 159]\n",
            "   [207 146 156]\n",
            "   [207 147 157]\n",
            "   ...\n",
            "   [205 141 155]\n",
            "   [202 140 155]\n",
            "   [201 138 154]]\n",
            "\n",
            "  [[207 147 155]\n",
            "   [207 147 155]\n",
            "   [206 145 154]\n",
            "   ...\n",
            "   [203 136 152]\n",
            "   [203 142 156]\n",
            "   [202 142 155]]]]\n"
          ]
        }
      ],
      "source": [
        "#randomly shuffling all the images\n",
        "s1 = np.arange(X_train.shape[0])\n",
        "np.random.shuffle(s1)\n",
        "X_train = X_train[s1]\n",
        "y_train = y_train[s1]\n",
        "\n",
        "s2 = np.arange(X_test.shape[0])\n",
        "np.random.shuffle(s2)\n",
        "X_test = X_test[s2]\n",
        "y_test = y_test[s2]\n",
        "print(X_train)"
      ]
    },
    {
      "cell_type": "code",
      "execution_count": null,
      "metadata": {
        "id": "0Aof0W4it1OE",
        "colab": {
          "base_uri": "https://localhost:8080/"
        },
        "outputId": "3482640a-8061-4511-a5e9-23668e7ba562"
      },
      "outputs": [
        {
          "output_type": "stream",
          "name": "stdout",
          "text": [
            "Shuffle orders example:  [1410  127 2157 ...  772 1848 1231]\n"
          ]
        }
      ],
      "source": [
        "print(\"Shuffle orders example: \", s1)\n"
      ]
    },
    {
      "cell_type": "code",
      "execution_count": null,
      "metadata": {
        "id": "Ie1DCAkdt4Cq",
        "colab": {
          "base_uri": "https://localhost:8080/",
          "height": 464
        },
        "outputId": "40ef6352-57e0-43da-db2c-a5ac624cd696"
      },
      "outputs": [
        {
          "output_type": "display_data",
          "data": {
            "text/plain": [
              "<Figure size 864x576 with 15 Axes>"
            ],
            "image/png": "[encoded data removed]"
          },
          "metadata": {
            "needs_background": "light"
          }
        }
      ],
      "source": [
        "#displaying images using matplot\n",
        "fig = plt.figure(figsize=(12,8))\n",
        "columns = 5\n",
        "rows = 3\n",
        "\n",
        "for i in range(1, columns*rows+1):\n",
        "    ax = fig.add_subplot(rows, columns, i)\n",
        "    if y_train[i] == 0:\n",
        "        ax.title.set_text('Benign')\n",
        "    else:\n",
        "        ax.title.set_text('Malignant')\n",
        "    plt.imshow(X_train[i], interpolation='nearest')\n",
        "plt.show()"
      ]
    },
    {
      "cell_type": "code",
      "execution_count": null,
      "metadata": {
        "id": "nBznvk4bt7qZ",
        "colab": {
          "base_uri": "https://localhost:8080/"
        },
        "outputId": "c06b3af2-5af1-4d13-8145-b1d3d25531a5"
      },
      "outputs": [
        {
          "output_type": "execute_result",
          "data": {
            "text/plain": [
              "numpy.ndarray"
            ]
          },
          "metadata": {},
          "execution_count": 12
        }
      ],
      "source": [
        "#changing the images arrays into 2D arrays for better classification\n",
        "import keras\n",
        "from keras.utils.np_utils import to_categorical\n",
        "\n",
        "y_train = to_categorical(y_train, num_classes=2)\n",
        "y_test = to_categorical(y_test, num_classes=2)\n",
        "\n",
        "type(y_train)"
      ]
    },
    {
      "cell_type": "code",
      "execution_count": null,
      "metadata": {
        "id": "g-Qv180lt_4H",
        "colab": {
          "base_uri": "https://localhost:8080/"
        },
        "outputId": "5ea39e8f-f66a-4215-eb63-3a9a2dc4ee24"
      },
      "outputs": [
        {
          "output_type": "execute_result",
          "data": {
            "text/plain": [
              "array([[1., 0.],\n",
              "       [1., 0.],\n",
              "       [0., 1.],\n",
              "       ...,\n",
              "       [1., 0.],\n",
              "       [0., 1.],\n",
              "       [1., 0.]], dtype=float32)"
            ]
          },
          "metadata": {},
          "execution_count": 13
        }
      ],
      "source": [
        "y_train"
      ]
    },
    {
      "cell_type": "code",
      "execution_count": null,
      "metadata": {
        "id": "wi5Fnc8WuCoe"
      },
      "outputs": [],
      "source": [
        "#resizing\n",
        "X_train = X_train/255\n",
        "X_test = X_test/255"
      ]
    },
    {
      "cell_type": "code",
      "execution_count": null,
      "metadata": {
        "id": "ufiIKxVXuFgf"
      },
      "outputs": [],
      "source": [
        "#applying CNN model\n",
        "from keras.models import Sequential, Model\n",
        "from keras.layers import Dense, Dropout, Flatten, Conv2D, MaxPool2D\n",
        "from keras.optimizers import Adam, RMSprop\n",
        "from tensorflow.keras.preprocessing.image import ImageDataGenerator\n",
        "\n",
        "def build_cnn_model(input_shape = (32, 32, 3), num_classes=2):\n",
        "    model = Sequential()\n",
        "\n",
        "    model.add(Conv2D(64, kernel_size=(3,3), padding='Same', input_shape = input_shape, activation='relu', kernel_initializer = 'glorot_uniform'))\n",
        "    model.add(MaxPool2D(pool_size = (2,2)))\n",
        "    model.add(Dropout(0.25))\n",
        "\n",
        "\n",
        "    model.add(Conv2D(64, kernel_size=(3,3), padding='Same', activation='relu', kernel_initializer = 'glorot_uniform'))\n",
        "    model.add(MaxPool2D(pool_size=(2,2)))\n",
        "    model.add(Dropout(0.25))\n",
        "\n",
        "\n",
        "    model.add(Flatten())\n",
        "\n",
        "    model.add(Dense(128, activation='relu', kernel_initializer='normal'))\n",
        "    model.add(Dense(128, activation='relu', kernel_initializer='normal'))\n",
        "\n",
        "    model.add(Dense(num_classes, activation = 'softmax'))\n",
        "    model.summary()\n",
        "    optimizer= Adam(lr=0.001)\n",
        "\n",
        "    model.compile(optimizer = optimizer, loss='binary_crossentropy', metrics=[\"accuracy\"])\n",
        "\n",
        "    return model"
      ]
    },
    {
      "cell_type": "code",
      "execution_count": null,
      "metadata": {
        "id": "aW0HibiZuQtD",
        "colab": {
          "base_uri": "https://localhost:8080/"
        },
        "outputId": "48cb1636-517f-463d-d2e9-398760cc6090"
      },
      "outputs": [
        {
          "output_type": "stream",
          "name": "stdout",
          "text": [
            "Model: \"sequential\"\n",
            "_________________________________________________________________\n",
            " Layer (type)                Output Shape              Param #   \n",
            "=================================================================\n",
            " conv2d (Conv2D)             (None, 32, 32, 64)        1792      \n",
            "                                                                 \n",
            " max_pooling2d (MaxPooling2D  (None, 16, 16, 64)       0         \n",
            " )                                                               \n",
            "                                                                 \n",
            " dropout (Dropout)           (None, 16, 16, 64)        0         \n",
            "                                                                 \n",
            " conv2d_1 (Conv2D)           (None, 16, 16, 64)        36928     \n",
            "                                                                 \n",
            " max_pooling2d_1 (MaxPooling  (None, 8, 8, 64)         0         \n",
            " 2D)                                                             \n",
            "                                                                 \n",
            " dropout_1 (Dropout)         (None, 8, 8, 64)          0         \n",
            "                                                                 \n",
            " flatten (Flatten)           (None, 4096)              0         \n",
            "                                                                 \n",
            " dense (Dense)               (None, 128)               524416    \n",
            "                                                                 \n",
            " dense_1 (Dense)             (None, 128)               16512     \n",
            "                                                                 \n",
            " dense_2 (Dense)             (None, 2)                 258       \n",
            "                                                                 \n",
            "=================================================================\n",
            "Total params: 579,906\n",
            "Trainable params: 579,906\n",
            "Non-trainable params: 0\n",
            "_________________________________________________________________\n"
          ]
        },
        {
          "output_type": "stream",
          "name": "stderr",
          "text": [
            "/usr/local/lib/python3.8/dist-packages/keras/optimizers/optimizer_v2/adam.py:110: UserWarning: The `lr` argument is deprecated, use `learning_rate` instead.\n",
            "  super(Adam, self).__init__(name, **kwargs)\n"
          ]
        }
      ],
      "source": [
        "model_cnn = build_cnn_model()"
      ]
    },
    {
      "cell_type": "code",
      "execution_count": null,
      "metadata": {
        "id": "0cOAmZoMuW6G",
        "colab": {
          "base_uri": "https://localhost:8080/"
        },
        "outputId": "70cc62b0-805e-4082-e5c5-59a5bdaa7175"
      },
      "outputs": [
        {
          "output_type": "stream",
          "name": "stdout",
          "text": [
            "Epoch 1/50\n",
            "42/42 [==============================] - ETA: 0s - loss: 0.6535 - accuracy: 0.6026"
          ]
        },
        {
          "output_type": "stream",
          "name": "stderr",
          "text": [
            "WARNING:tensorflow:Learning rate reduction is conditioned on metric `val_acc` which is not available. Available metrics are: loss,accuracy,val_loss,val_accuracy,lr\n"
          ]
        },
        {
          "output_type": "stream",
          "name": "stdout",
          "text": [
            "\b\b\b\b\b\b\b\b\b\b\b\b\b\b\b\b\b\b\b\b\b\b\b\b\b\b\b\b\b\b\b\b\b\b\b\b\b\b\b\b\b\b\b\b\b\b\b\b\b\b\b\b\b\b\b\b\b\b\b\b\b\b\b\b\b\b\b\b\b\b\b\b\b\b\b\b\b\b\b\b\b\b\r42/42 [==============================] - 9s 15ms/step - loss: 0.6535 - accuracy: 0.6026 - val_loss: 0.6711 - val_accuracy: 0.5879 - lr: 0.0010\n",
            "Epoch 2/50\n",
            "36/42 [========================>.....] - ETA: 0s - loss: 0.5737 - accuracy: 0.7122"
          ]
        },
        {
          "output_type": "stream",
          "name": "stderr",
          "text": [
            "WARNING:tensorflow:Learning rate reduction is conditioned on metric `val_acc` which is not available. Available metrics are: loss,accuracy,val_loss,val_accuracy,lr\n"
          ]
        },
        {
          "output_type": "stream",
          "name": "stdout",
          "text": [
            "\b\b\b\b\b\b\b\b\b\b\b\b\b\b\b\b\b\b\b\b\b\b\b\b\b\b\b\b\b\b\b\b\b\b\b\b\b\b\b\b\b\b\b\b\b\b\b\b\b\b\b\b\b\b\b\b\b\b\b\b\b\b\b\b\b\b\b\b\b\b\b\b\b\b\b\b\b\b\b\b\b\b\r42/42 [==============================] - 0s 7ms/step - loss: 0.5670 - accuracy: 0.7137 - val_loss: 0.4800 - val_accuracy: 0.7591 - lr: 0.0010\n",
            "Epoch 3/50\n",
            "39/42 [==========================>...] - ETA: 0s - loss: 0.4692 - accuracy: 0.7736"
          ]
        },
        {
          "output_type": "stream",
          "name": "stderr",
          "text": [
            "WARNING:tensorflow:Learning rate reduction is conditioned on metric `val_acc` which is not available. Available metrics are: loss,accuracy,val_loss,val_accuracy,lr\n"
          ]
        },
        {
          "output_type": "stream",
          "name": "stdout",
          "text": [
            "\b\b\b\b\b\b\b\b\b\b\b\b\b\b\b\b\b\b\b\b\b\b\b\b\b\b\b\b\b\b\b\b\b\b\b\b\b\b\b\b\b\b\b\b\b\b\b\b\b\b\b\b\b\b\b\b\b\b\b\b\b\b\b\b\b\b\b\b\b\b\b\b\b\b\b\b\b\b\b\b\b\b\r42/42 [==============================] - 0s 7ms/step - loss: 0.4657 - accuracy: 0.7747 - val_loss: 0.4213 - val_accuracy: 0.7894 - lr: 0.0010\n",
            "Epoch 4/50\n",
            "38/42 [==========================>...] - ETA: 0s - loss: 0.4322 - accuracy: 0.7812"
          ]
        },
        {
          "output_type": "stream",
          "name": "stderr",
          "text": [
            "WARNING:tensorflow:Learning rate reduction is conditioned on metric `val_acc` which is not available. Available metrics are: loss,accuracy,val_loss,val_accuracy,lr\n"
          ]
        },
        {
          "output_type": "stream",
          "name": "stdout",
          "text": [
            "\b\b\b\b\b\b\b\b\b\b\b\b\b\b\b\b\b\b\b\b\b\b\b\b\b\b\b\b\b\b\b\b\b\b\b\b\b\b\b\b\b\b\b\b\b\b\b\b\b\b\b\b\b\b\b\b\b\b\b\b\b\b\b\b\b\b\b\b\b\b\b\b\b\b\b\b\b\b\b\b\b\b\r42/42 [==============================] - 0s 8ms/step - loss: 0.4307 - accuracy: 0.7838 - val_loss: 0.3996 - val_accuracy: 0.7818 - lr: 0.0010\n",
            "Epoch 5/50\n",
            "40/42 [===========================>..] - ETA: 0s - loss: 0.3961 - accuracy: 0.8020"
          ]
        },
        {
          "output_type": "stream",
          "name": "stderr",
          "text": [
            "WARNING:tensorflow:Learning rate reduction is conditioned on metric `val_acc` which is not available. Available metrics are: loss,accuracy,val_loss,val_accuracy,lr\n"
          ]
        },
        {
          "output_type": "stream",
          "name": "stdout",
          "text": [
            "\b\b\b\b\b\b\b\b\b\b\b\b\b\b\b\b\b\b\b\b\b\b\b\b\b\b\b\b\b\b\b\b\b\b\b\b\b\b\b\b\b\b\b\b\b\b\b\b\b\b\b\b\b\b\b\b\b\b\b\b\b\b\b\b\b\b\b\b\b\b\b\b\b\b\b\b\b\b\b\b\b\b\r42/42 [==============================] - 0s 7ms/step - loss: 0.3982 - accuracy: 0.8005 - val_loss: 0.3876 - val_accuracy: 0.8167 - lr: 0.0010\n",
            "Epoch 6/50\n",
            "41/42 [============================>.] - ETA: 0s - loss: 0.4008 - accuracy: 0.7908"
          ]
        },
        {
          "output_type": "stream",
          "name": "stderr",
          "text": [
            "WARNING:tensorflow:Learning rate reduction is conditioned on metric `val_acc` which is not available. Available metrics are: loss,accuracy,val_loss,val_accuracy,lr\n"
          ]
        },
        {
          "output_type": "stream",
          "name": "stdout",
          "text": [
            "\b\b\b\b\b\b\b\b\b\b\b\b\b\b\b\b\b\b\b\b\b\b\b\b\b\b\b\b\b\b\b\b\b\b\b\b\b\b\b\b\b\b\b\b\b\b\b\b\b\b\b\b\b\b\b\b\b\b\b\b\b\b\b\b\b\b\b\b\b\b\b\b\b\b\b\b\b\b\b\b\b\b\r42/42 [==============================] - 0s 7ms/step - loss: 0.4008 - accuracy: 0.7911 - val_loss: 0.3947 - val_accuracy: 0.8045 - lr: 0.0010\n",
            "Epoch 7/50\n",
            "39/42 [==========================>...] - ETA: 0s - loss: 0.3757 - accuracy: 0.8149"
          ]
        },
        {
          "output_type": "stream",
          "name": "stderr",
          "text": [
            "WARNING:tensorflow:Learning rate reduction is conditioned on metric `val_acc` which is not available. Available metrics are: loss,accuracy,val_loss,val_accuracy,lr\n"
          ]
        },
        {
          "output_type": "stream",
          "name": "stdout",
          "text": [
            "\b\b\b\b\b\b\b\b\b\b\b\b\b\b\b\b\b\b\b\b\b\b\b\b\b\b\b\b\b\b\b\b\b\b\b\b\b\b\b\b\b\b\b\b\b\b\b\b\b\b\b\b\b\b\b\b\b\b\b\b\b\b\b\b\b\b\b\b\b\b\b\b\b\b\b\b\b\b\b\b\b\b\r42/42 [==============================] - 0s 7ms/step - loss: 0.3764 - accuracy: 0.8127 - val_loss: 0.3639 - val_accuracy: 0.8197 - lr: 0.0010\n",
            "Epoch 8/50\n",
            "37/42 [=========================>....] - ETA: 0s - loss: 0.3752 - accuracy: 0.8053"
          ]
        },
        {
          "output_type": "stream",
          "name": "stderr",
          "text": [
            "WARNING:tensorflow:Learning rate reduction is conditioned on metric `val_acc` which is not available. Available metrics are: loss,accuracy,val_loss,val_accuracy,lr\n"
          ]
        },
        {
          "output_type": "stream",
          "name": "stdout",
          "text": [
            "\b\b\b\b\b\b\b\b\b\b\b\b\b\b\b\b\b\b\b\b\b\b\b\b\b\b\b\b\b\b\b\b\b\b\b\b\b\b\b\b\b\b\b\b\b\b\b\b\b\b\b\b\b\b\b\b\b\b\b\b\b\b\b\b\b\b\b\b\b\b\b\b\b\b\b\b\b\b\b\b\b\b\r42/42 [==============================] - 0s 7ms/step - loss: 0.3736 - accuracy: 0.8077 - val_loss: 0.3690 - val_accuracy: 0.8182 - lr: 0.0010\n",
            "Epoch 9/50\n",
            "38/42 [==========================>...] - ETA: 0s - loss: 0.3658 - accuracy: 0.8084"
          ]
        },
        {
          "output_type": "stream",
          "name": "stderr",
          "text": [
            "WARNING:tensorflow:Learning rate reduction is conditioned on metric `val_acc` which is not available. Available metrics are: loss,accuracy,val_loss,val_accuracy,lr\n"
          ]
        },
        {
          "output_type": "stream",
          "name": "stdout",
          "text": [
            "\b\b\b\b\b\b\b\b\b\b\b\b\b\b\b\b\b\b\b\b\b\b\b\b\b\b\b\b\b\b\b\b\b\b\b\b\b\b\b\b\b\b\b\b\b\b\b\b\b\b\b\b\b\b\b\b\b\b\b\b\b\b\b\b\b\b\b\b\b\b\b\b\b\b\b\b\b\b\b\b\b\b\r42/42 [==============================] - 0s 7ms/step - loss: 0.3697 - accuracy: 0.8058 - val_loss: 0.3880 - val_accuracy: 0.8076 - lr: 0.0010\n",
            "Epoch 10/50\n",
            "41/42 [============================>.] - ETA: 0s - loss: 0.3682 - accuracy: 0.8201"
          ]
        },
        {
          "output_type": "stream",
          "name": "stderr",
          "text": [
            "WARNING:tensorflow:Learning rate reduction is conditioned on metric `val_acc` which is not available. Available metrics are: loss,accuracy,val_loss,val_accuracy,lr\n"
          ]
        },
        {
          "output_type": "stream",
          "name": "stdout",
          "text": [
            "\b\b\b\b\b\b\b\b\b\b\b\b\b\b\b\b\b\b\b\b\b\b\b\b\b\b\b\b\b\b\b\b\b\b\b\b\b\b\b\b\b\b\b\b\b\b\b\b\b\b\b\b\b\b\b\b\b\b\b\b\b\b\b\b\b\b\b\b\b\b\b\b\b\b\b\b\b\b\b\b\b\b\r42/42 [==============================] - 0s 7ms/step - loss: 0.3689 - accuracy: 0.8195 - val_loss: 0.3925 - val_accuracy: 0.7879 - lr: 0.0010\n",
            "Epoch 11/50\n",
            "39/42 [==========================>...] - ETA: 0s - loss: 0.3546 - accuracy: 0.8185"
          ]
        },
        {
          "output_type": "stream",
          "name": "stderr",
          "text": [
            "WARNING:tensorflow:Learning rate reduction is conditioned on metric `val_acc` which is not available. Available metrics are: loss,accuracy,val_loss,val_accuracy,lr\n"
          ]
        },
        {
          "output_type": "stream",
          "name": "stdout",
          "text": [
            "\b\b\b\b\b\b\b\b\b\b\b\b\b\b\b\b\b\b\b\b\b\b\b\b\b\b\b\b\b\b\b\b\b\b\b\b\b\b\b\b\b\b\b\b\b\b\b\b\b\b\b\b\b\b\b\b\b\b\b\b\b\b\b\b\b\b\b\b\b\b\b\b\b\b\b\b\b\b\b\b\b\b\r42/42 [==============================] - 0s 8ms/step - loss: 0.3523 - accuracy: 0.8199 - val_loss: 0.4149 - val_accuracy: 0.8000 - lr: 0.0010\n",
            "Epoch 12/50\n",
            "41/42 [============================>.] - ETA: 0s - loss: 0.3434 - accuracy: 0.8369"
          ]
        },
        {
          "output_type": "stream",
          "name": "stderr",
          "text": [
            "WARNING:tensorflow:Learning rate reduction is conditioned on metric `val_acc` which is not available. Available metrics are: loss,accuracy,val_loss,val_accuracy,lr\n"
          ]
        },
        {
          "output_type": "stream",
          "name": "stdout",
          "text": [
            "\b\b\b\b\b\b\b\b\b\b\b\b\b\b\b\b\b\b\b\b\b\b\b\b\b\b\b\b\b\b\b\b\b\b\b\b\b\b\b\b\b\b\b\b\b\b\b\b\b\b\b\b\b\b\b\b\b\b\b\b\b\b\b\b\b\b\b\b\b\b\b\b\b\b\b\b\b\b\b\b\b\b\r42/42 [==============================] - 0s 7ms/step - loss: 0.3428 - accuracy: 0.8369 - val_loss: 0.3922 - val_accuracy: 0.8030 - lr: 0.0010\n",
            "Epoch 13/50\n",
            "39/42 [==========================>...] - ETA: 0s - loss: 0.3579 - accuracy: 0.8241"
          ]
        },
        {
          "output_type": "stream",
          "name": "stderr",
          "text": [
            "WARNING:tensorflow:Learning rate reduction is conditioned on metric `val_acc` which is not available. Available metrics are: loss,accuracy,val_loss,val_accuracy,lr\n"
          ]
        },
        {
          "output_type": "stream",
          "name": "stdout",
          "text": [
            "\b\b\b\b\b\b\b\b\b\b\b\b\b\b\b\b\b\b\b\b\b\b\b\b\b\b\b\b\b\b\b\b\b\b\b\b\b\b\b\b\b\b\b\b\b\b\b\b\b\b\b\b\b\b\b\b\b\b\b\b\b\b\b\b\b\b\b\b\b\b\b\b\b\b\b\b\b\b\b\b\b\b\r42/42 [==============================] - 0s 7ms/step - loss: 0.3514 - accuracy: 0.8286 - val_loss: 0.3299 - val_accuracy: 0.8515 - lr: 0.0010\n",
            "Epoch 14/50\n",
            "39/42 [==========================>...] - ETA: 0s - loss: 0.3325 - accuracy: 0.8381"
          ]
        },
        {
          "output_type": "stream",
          "name": "stderr",
          "text": [
            "WARNING:tensorflow:Learning rate reduction is conditioned on metric `val_acc` which is not available. Available metrics are: loss,accuracy,val_loss,val_accuracy,lr\n"
          ]
        },
        {
          "output_type": "stream",
          "name": "stdout",
          "text": [
            "\b\b\b\b\b\b\b\b\b\b\b\b\b\b\b\b\b\b\b\b\b\b\b\b\b\b\b\b\b\b\b\b\b\b\b\b\b\b\b\b\b\b\b\b\b\b\b\b\b\b\b\b\b\b\b\b\b\b\b\b\b\b\b\b\b\b\b\b\b\b\b\b\b\b\b\b\b\b\b\b\b\b\r42/42 [==============================] - 0s 7ms/step - loss: 0.3311 - accuracy: 0.8377 - val_loss: 0.3260 - val_accuracy: 0.8424 - lr: 0.0010\n",
            "Epoch 15/50\n",
            "39/42 [==========================>...] - ETA: 0s - loss: 0.3203 - accuracy: 0.8417"
          ]
        },
        {
          "output_type": "stream",
          "name": "stderr",
          "text": [
            "WARNING:tensorflow:Learning rate reduction is conditioned on metric `val_acc` which is not available. Available metrics are: loss,accuracy,val_loss,val_accuracy,lr\n"
          ]
        },
        {
          "output_type": "stream",
          "name": "stdout",
          "text": [
            "\b\b\b\b\b\b\b\b\b\b\b\b\b\b\b\b\b\b\b\b\b\b\b\b\b\b\b\b\b\b\b\b\b\b\b\b\b\b\b\b\b\b\b\b\b\b\b\b\b\b\b\b\b\b\b\b\b\b\b\b\b\b\b\b\b\b\b\b\b\b\b\b\b\b\b\b\b\b\b\b\b\b\r42/42 [==============================] - 0s 7ms/step - loss: 0.3195 - accuracy: 0.8419 - val_loss: 0.3383 - val_accuracy: 0.8379 - lr: 0.0010\n",
            "Epoch 16/50\n",
            "38/42 [==========================>...] - ETA: 0s - loss: 0.3299 - accuracy: 0.8409"
          ]
        },
        {
          "output_type": "stream",
          "name": "stderr",
          "text": [
            "WARNING:tensorflow:Learning rate reduction is conditioned on metric `val_acc` which is not available. Available metrics are: loss,accuracy,val_loss,val_accuracy,lr\n"
          ]
        },
        {
          "output_type": "stream",
          "name": "stdout",
          "text": [
            "\b\b\b\b\b\b\b\b\b\b\b\b\b\b\b\b\b\b\b\b\b\b\b\b\b\b\b\b\b\b\b\b\b\b\b\b\b\b\b\b\b\b\b\b\b\b\b\b\b\b\b\b\b\b\b\b\b\b\b\b\b\b\b\b\b\b\b\b\b\b\b\b\b\b\b\b\b\b\b\b\b\b\r42/42 [==============================] - 0s 8ms/step - loss: 0.3291 - accuracy: 0.8388 - val_loss: 0.3200 - val_accuracy: 0.8409 - lr: 0.0010\n",
            "Epoch 17/50\n",
            "40/42 [===========================>..] - ETA: 0s - loss: 0.3256 - accuracy: 0.8387"
          ]
        },
        {
          "output_type": "stream",
          "name": "stderr",
          "text": [
            "WARNING:tensorflow:Learning rate reduction is conditioned on metric `val_acc` which is not available. Available metrics are: loss,accuracy,val_loss,val_accuracy,lr\n"
          ]
        },
        {
          "output_type": "stream",
          "name": "stdout",
          "text": [
            "\b\b\b\b\b\b\b\b\b\b\b\b\b\b\b\b\b\b\b\b\b\b\b\b\b\b\b\b\b\b\b\b\b\b\b\b\b\b\b\b\b\b\b\b\b\b\b\b\b\b\b\b\b\b\b\b\b\b\b\b\b\b\b\b\b\b\b\b\b\b\b\b\b\b\b\b\b\b\b\b\b\b\r42/42 [==============================] - 0s 7ms/step - loss: 0.3252 - accuracy: 0.8396 - val_loss: 0.3792 - val_accuracy: 0.8121 - lr: 0.0010\n",
            "Epoch 18/50\n",
            "37/42 [=========================>....] - ETA: 0s - loss: 0.3240 - accuracy: 0.8412"
          ]
        },
        {
          "output_type": "stream",
          "name": "stderr",
          "text": [
            "WARNING:tensorflow:Learning rate reduction is conditioned on metric `val_acc` which is not available. Available metrics are: loss,accuracy,val_loss,val_accuracy,lr\n"
          ]
        },
        {
          "output_type": "stream",
          "name": "stdout",
          "text": [
            "\b\b\b\b\b\b\b\b\b\b\b\b\b\b\b\b\b\b\b\b\b\b\b\b\b\b\b\b\b\b\b\b\b\b\b\b\b\b\b\b\b\b\b\b\b\b\b\b\b\b\b\b\b\b\b\b\b\b\b\b\b\b\b\b\b\b\b\b\b\b\b\b\b\b\b\b\b\b\b\b\b\b\r42/42 [==============================] - 0s 7ms/step - loss: 0.3177 - accuracy: 0.8434 - val_loss: 0.3159 - val_accuracy: 0.8561 - lr: 0.0010\n",
            "Epoch 19/50\n",
            "40/42 [===========================>..] - ETA: 0s - loss: 0.3045 - accuracy: 0.8520"
          ]
        },
        {
          "output_type": "stream",
          "name": "stderr",
          "text": [
            "WARNING:tensorflow:Learning rate reduction is conditioned on metric `val_acc` which is not available. Available metrics are: loss,accuracy,val_loss,val_accuracy,lr\n"
          ]
        },
        {
          "output_type": "stream",
          "name": "stdout",
          "text": [
            "\b\b\b\b\b\b\b\b\b\b\b\b\b\b\b\b\b\b\b\b\b\b\b\b\b\b\b\b\b\b\b\b\b\b\b\b\b\b\b\b\b\b\b\b\b\b\b\b\b\b\b\b\b\b\b\b\b\b\b\b\b\b\b\b\b\b\b\b\b\b\b\b\b\b\b\b\b\b\b\b\b\b\r42/42 [==============================] - 0s 7ms/step - loss: 0.3032 - accuracy: 0.8529 - val_loss: 0.3088 - val_accuracy: 0.8652 - lr: 0.0010\n",
            "Epoch 20/50\n",
            "41/42 [============================>.] - ETA: 0s - loss: 0.2922 - accuracy: 0.8552"
          ]
        },
        {
          "output_type": "stream",
          "name": "stderr",
          "text": [
            "WARNING:tensorflow:Learning rate reduction is conditioned on metric `val_acc` which is not available. Available metrics are: loss,accuracy,val_loss,val_accuracy,lr\n"
          ]
        },
        {
          "output_type": "stream",
          "name": "stdout",
          "text": [
            "\b\b\b\b\b\b\b\b\b\b\b\b\b\b\b\b\b\b\b\b\b\b\b\b\b\b\b\b\b\b\b\b\b\b\b\b\b\b\b\b\b\b\b\b\b\b\b\b\b\b\b\b\b\b\b\b\b\b\b\b\b\b\b\b\b\b\b\b\b\b\b\b\b\b\b\b\b\b\b\b\b\b\r42/42 [==============================] - 0s 7ms/step - loss: 0.2933 - accuracy: 0.8548 - val_loss: 0.3122 - val_accuracy: 0.8667 - lr: 0.0010\n",
            "Epoch 21/50\n",
            "40/42 [===========================>..] - ETA: 0s - loss: 0.2934 - accuracy: 0.8539"
          ]
        },
        {
          "output_type": "stream",
          "name": "stderr",
          "text": [
            "WARNING:tensorflow:Learning rate reduction is conditioned on metric `val_acc` which is not available. Available metrics are: loss,accuracy,val_loss,val_accuracy,lr\n"
          ]
        },
        {
          "output_type": "stream",
          "name": "stdout",
          "text": [
            "\b\b\b\b\b\b\b\b\b\b\b\b\b\b\b\b\b\b\b\b\b\b\b\b\b\b\b\b\b\b\b\b\b\b\b\b\b\b\b\b\b\b\b\b\b\b\b\b\b\b\b\b\b\b\b\b\b\b\b\b\b\b\b\b\b\b\b\b\b\b\b\b\b\b\b\b\b\b\b\b\b\b\r42/42 [==============================] - 0s 7ms/step - loss: 0.2931 - accuracy: 0.8540 - val_loss: 0.3176 - val_accuracy: 0.8515 - lr: 0.0010\n",
            "Epoch 22/50\n",
            "41/42 [============================>.] - ETA: 0s - loss: 0.3008 - accuracy: 0.8563"
          ]
        },
        {
          "output_type": "stream",
          "name": "stderr",
          "text": [
            "WARNING:tensorflow:Learning rate reduction is conditioned on metric `val_acc` which is not available. Available metrics are: loss,accuracy,val_loss,val_accuracy,lr\n"
          ]
        },
        {
          "output_type": "stream",
          "name": "stdout",
          "text": [
            "\b\b\b\b\b\b\b\b\b\b\b\b\b\b\b\b\b\b\b\b\b\b\b\b\b\b\b\b\b\b\b\b\b\b\b\b\b\b\b\b\b\b\b\b\b\b\b\b\b\b\b\b\b\b\b\b\b\b\b\b\b\b\b\b\b\b\b\b\b\b\b\b\b\b\b\b\b\b\b\b\b\b\r42/42 [==============================] - 0s 7ms/step - loss: 0.3001 - accuracy: 0.8567 - val_loss: 0.3014 - val_accuracy: 0.8667 - lr: 0.0010\n",
            "Epoch 23/50\n",
            "40/42 [===========================>..] - ETA: 0s - loss: 0.2702 - accuracy: 0.8742"
          ]
        },
        {
          "output_type": "stream",
          "name": "stderr",
          "text": [
            "WARNING:tensorflow:Learning rate reduction is conditioned on metric `val_acc` which is not available. Available metrics are: loss,accuracy,val_loss,val_accuracy,lr\n"
          ]
        },
        {
          "output_type": "stream",
          "name": "stdout",
          "text": [
            "\b\b\b\b\b\b\b\b\b\b\b\b\b\b\b\b\b\b\b\b\b\b\b\b\b\b\b\b\b\b\b\b\b\b\b\b\b\b\b\b\b\b\b\b\b\b\b\b\b\b\b\b\b\b\b\b\b\b\b\b\b\b\b\b\b\b\b\b\b\b\b\b\b\b\b\b\b\b\b\b\b\b\r42/42 [==============================] - 0s 7ms/step - loss: 0.2704 - accuracy: 0.8733 - val_loss: 0.3823 - val_accuracy: 0.8167 - lr: 0.0010\n",
            "Epoch 24/50\n",
            "40/42 [===========================>..] - ETA: 0s - loss: 0.2983 - accuracy: 0.8680"
          ]
        },
        {
          "output_type": "stream",
          "name": "stderr",
          "text": [
            "WARNING:tensorflow:Learning rate reduction is conditioned on metric `val_acc` which is not available. Available metrics are: loss,accuracy,val_loss,val_accuracy,lr\n"
          ]
        },
        {
          "output_type": "stream",
          "name": "stdout",
          "text": [
            "\b\b\b\b\b\b\b\b\b\b\b\b\b\b\b\b\b\b\b\b\b\b\b\b\b\b\b\b\b\b\b\b\b\b\b\b\b\b\b\b\b\b\b\b\b\b\b\b\b\b\b\b\b\b\b\b\b\b\b\b\b\b\b\b\b\b\b\b\b\b\b\b\b\b\b\b\b\b\b\b\b\b\r42/42 [==============================] - 0s 7ms/step - loss: 0.2943 - accuracy: 0.8699 - val_loss: 0.2976 - val_accuracy: 0.8682 - lr: 0.0010\n",
            "Epoch 25/50\n",
            "37/42 [=========================>....] - ETA: 0s - loss: 0.2571 - accuracy: 0.8767"
          ]
        },
        {
          "output_type": "stream",
          "name": "stderr",
          "text": [
            "WARNING:tensorflow:Learning rate reduction is conditioned on metric `val_acc` which is not available. Available metrics are: loss,accuracy,val_loss,val_accuracy,lr\n"
          ]
        },
        {
          "output_type": "stream",
          "name": "stdout",
          "text": [
            "\b\b\b\b\b\b\b\b\b\b\b\b\b\b\b\b\b\b\b\b\b\b\b\b\b\b\b\b\b\b\b\b\b\b\b\b\b\b\b\b\b\b\b\b\b\b\b\b\b\b\b\b\b\b\b\b\b\b\b\b\b\b\b\b\b\b\b\b\b\b\b\b\b\b\b\b\b\b\b\b\b\b\r42/42 [==============================] - 0s 7ms/step - loss: 0.2563 - accuracy: 0.8768 - val_loss: 0.3097 - val_accuracy: 0.8561 - lr: 0.0010\n",
            "Epoch 26/50\n",
            "41/42 [============================>.] - ETA: 0s - loss: 0.2756 - accuracy: 0.8716"
          ]
        },
        {
          "output_type": "stream",
          "name": "stderr",
          "text": [
            "WARNING:tensorflow:Learning rate reduction is conditioned on metric `val_acc` which is not available. Available metrics are: loss,accuracy,val_loss,val_accuracy,lr\n"
          ]
        },
        {
          "output_type": "stream",
          "name": "stdout",
          "text": [
            "\b\b\b\b\b\b\b\b\b\b\b\b\b\b\b\b\b\b\b\b\b\b\b\b\b\b\b\b\b\b\b\b\b\b\b\b\b\b\b\b\b\b\b\b\b\b\b\b\b\b\b\b\b\b\b\b\b\b\b\b\b\b\b\b\b\b\b\b\b\b\b\b\b\b\b\b\b\b\b\b\b\b\r42/42 [==============================] - 0s 7ms/step - loss: 0.2754 - accuracy: 0.8718 - val_loss: 0.3180 - val_accuracy: 0.8500 - lr: 0.0010\n",
            "Epoch 27/50\n",
            "40/42 [===========================>..] - ETA: 0s - loss: 0.2609 - accuracy: 0.8762"
          ]
        },
        {
          "output_type": "stream",
          "name": "stderr",
          "text": [
            "WARNING:tensorflow:Learning rate reduction is conditioned on metric `val_acc` which is not available. Available metrics are: loss,accuracy,val_loss,val_accuracy,lr\n"
          ]
        },
        {
          "output_type": "stream",
          "name": "stdout",
          "text": [
            "\b\b\b\b\b\b\b\b\b\b\b\b\b\b\b\b\b\b\b\b\b\b\b\b\b\b\b\b\b\b\b\b\b\b\b\b\b\b\b\b\b\b\b\b\b\b\b\b\b\b\b\b\b\b\b\b\b\b\b\b\b\b\b\b\b\b\b\b\b\b\b\b\b\b\b\b\b\b\b\b\b\b\r42/42 [==============================] - 0s 7ms/step - loss: 0.2592 - accuracy: 0.8771 - val_loss: 0.3067 - val_accuracy: 0.8621 - lr: 0.0010\n",
            "Epoch 28/50\n",
            "38/42 [==========================>...] - ETA: 0s - loss: 0.2630 - accuracy: 0.8820"
          ]
        },
        {
          "output_type": "stream",
          "name": "stderr",
          "text": [
            "WARNING:tensorflow:Learning rate reduction is conditioned on metric `val_acc` which is not available. Available metrics are: loss,accuracy,val_loss,val_accuracy,lr\n"
          ]
        },
        {
          "output_type": "stream",
          "name": "stdout",
          "text": [
            "\b\b\b\b\b\b\b\b\b\b\b\b\b\b\b\b\b\b\b\b\b\b\b\b\b\b\b\b\b\b\b\b\b\b\b\b\b\b\b\b\b\b\b\b\b\b\b\b\b\b\b\b\b\b\b\b\b\b\b\b\b\b\b\b\b\b\b\b\b\b\b\b\b\b\b\b\b\b\b\b\b\b\r42/42 [==============================] - 0s 7ms/step - loss: 0.2605 - accuracy: 0.8832 - val_loss: 0.3264 - val_accuracy: 0.8485 - lr: 0.0010\n",
            "Epoch 29/50\n",
            "41/42 [============================>.] - ETA: 0s - loss: 0.2562 - accuracy: 0.8845"
          ]
        },
        {
          "output_type": "stream",
          "name": "stderr",
          "text": [
            "WARNING:tensorflow:Learning rate reduction is conditioned on metric `val_acc` which is not available. Available metrics are: loss,accuracy,val_loss,val_accuracy,lr\n"
          ]
        },
        {
          "output_type": "stream",
          "name": "stdout",
          "text": [
            "\b\b\b\b\b\b\b\b\b\b\b\b\b\b\b\b\b\b\b\b\b\b\b\b\b\b\b\b\b\b\b\b\b\b\b\b\b\b\b\b\b\b\b\b\b\b\b\b\b\b\b\b\b\b\b\b\b\b\b\b\b\b\b\b\b\b\b\b\b\b\b\b\b\b\b\b\b\b\b\b\b\b\r42/42 [==============================] - 0s 6ms/step - loss: 0.2552 - accuracy: 0.8851 - val_loss: 0.3087 - val_accuracy: 0.8636 - lr: 0.0010\n",
            "Epoch 30/50\n",
            "39/42 [==========================>...] - ETA: 0s - loss: 0.2425 - accuracy: 0.8810"
          ]
        },
        {
          "output_type": "stream",
          "name": "stderr",
          "text": [
            "WARNING:tensorflow:Learning rate reduction is conditioned on metric `val_acc` which is not available. Available metrics are: loss,accuracy,val_loss,val_accuracy,lr\n"
          ]
        },
        {
          "output_type": "stream",
          "name": "stdout",
          "text": [
            "\b\b\b\b\b\b\b\b\b\b\b\b\b\b\b\b\b\b\b\b\b\b\b\b\b\b\b\b\b\b\b\b\b\b\b\b\b\b\b\b\b\b\b\b\b\b\b\b\b\b\b\b\b\b\b\b\b\b\b\b\b\b\b\b\b\b\b\b\b\b\b\b\b\b\b\b\b\b\b\b\b\b\r42/42 [==============================] - 0s 7ms/step - loss: 0.2440 - accuracy: 0.8813 - val_loss: 0.3104 - val_accuracy: 0.8515 - lr: 0.0010\n",
            "Epoch 31/50\n",
            "40/42 [===========================>..] - ETA: 0s - loss: 0.2431 - accuracy: 0.8891"
          ]
        },
        {
          "output_type": "stream",
          "name": "stderr",
          "text": [
            "WARNING:tensorflow:Learning rate reduction is conditioned on metric `val_acc` which is not available. Available metrics are: loss,accuracy,val_loss,val_accuracy,lr\n"
          ]
        },
        {
          "output_type": "stream",
          "name": "stdout",
          "text": [
            "\b\b\b\b\b\b\b\b\b\b\b\b\b\b\b\b\b\b\b\b\b\b\b\b\b\b\b\b\b\b\b\b\b\b\b\b\b\b\b\b\b\b\b\b\b\b\b\b\b\b\b\b\b\b\b\b\b\b\b\b\b\b\b\b\b\b\b\b\b\b\b\b\b\b\b\b\b\b\b\b\b\b\r42/42 [==============================] - 0s 7ms/step - loss: 0.2428 - accuracy: 0.8889 - val_loss: 0.3169 - val_accuracy: 0.8364 - lr: 0.0010\n",
            "Epoch 32/50\n",
            "38/42 [==========================>...] - ETA: 0s - loss: 0.2383 - accuracy: 0.8865"
          ]
        },
        {
          "output_type": "stream",
          "name": "stderr",
          "text": [
            "WARNING:tensorflow:Learning rate reduction is conditioned on metric `val_acc` which is not available. Available metrics are: loss,accuracy,val_loss,val_accuracy,lr\n"
          ]
        },
        {
          "output_type": "stream",
          "name": "stdout",
          "text": [
            "\b\b\b\b\b\b\b\b\b\b\b\b\b\b\b\b\b\b\b\b\b\b\b\b\b\b\b\b\b\b\b\b\b\b\b\b\b\b\b\b\b\b\b\b\b\b\b\b\b\b\b\b\b\b\b\b\b\b\b\b\b\b\b\b\b\b\b\b\b\b\b\b\b\b\b\b\b\b\b\b\b\b\r42/42 [==============================] - 0s 7ms/step - loss: 0.2386 - accuracy: 0.8866 - val_loss: 0.3139 - val_accuracy: 0.8545 - lr: 0.0010\n",
            "Epoch 33/50\n",
            "40/42 [===========================>..] - ETA: 0s - loss: 0.2121 - accuracy: 0.9035"
          ]
        },
        {
          "output_type": "stream",
          "name": "stderr",
          "text": [
            "WARNING:tensorflow:Learning rate reduction is conditioned on metric `val_acc` which is not available. Available metrics are: loss,accuracy,val_loss,val_accuracy,lr\n"
          ]
        },
        {
          "output_type": "stream",
          "name": "stdout",
          "text": [
            "\b\b\b\b\b\b\b\b\b\b\b\b\b\b\b\b\b\b\b\b\b\b\b\b\b\b\b\b\b\b\b\b\b\b\b\b\b\b\b\b\b\b\b\b\b\b\b\b\b\b\b\b\b\b\b\b\b\b\b\b\b\b\b\b\b\b\b\b\b\b\b\b\b\b\b\b\b\b\b\b\b\b\r42/42 [==============================] - 0s 7ms/step - loss: 0.2159 - accuracy: 0.9003 - val_loss: 0.3185 - val_accuracy: 0.8545 - lr: 0.0010\n",
            "Epoch 34/50\n",
            "39/42 [==========================>...] - ETA: 0s - loss: 0.2161 - accuracy: 0.8986"
          ]
        },
        {
          "output_type": "stream",
          "name": "stderr",
          "text": [
            "WARNING:tensorflow:Learning rate reduction is conditioned on metric `val_acc` which is not available. Available metrics are: loss,accuracy,val_loss,val_accuracy,lr\n"
          ]
        },
        {
          "output_type": "stream",
          "name": "stdout",
          "text": [
            "\b\b\b\b\b\b\b\b\b\b\b\b\b\b\b\b\b\b\b\b\b\b\b\b\b\b\b\b\b\b\b\b\b\b\b\b\b\b\b\b\b\b\b\b\b\b\b\b\b\b\b\b\b\b\b\b\b\b\b\b\b\b\b\b\b\b\b\b\b\b\b\b\b\b\b\b\b\b\b\b\b\b\r42/42 [==============================] - 0s 8ms/step - loss: 0.2156 - accuracy: 0.8991 - val_loss: 0.2994 - val_accuracy: 0.8606 - lr: 0.0010\n",
            "Epoch 35/50\n",
            "40/42 [===========================>..] - ETA: 0s - loss: 0.2044 - accuracy: 0.9082"
          ]
        },
        {
          "output_type": "stream",
          "name": "stderr",
          "text": [
            "WARNING:tensorflow:Learning rate reduction is conditioned on metric `val_acc` which is not available. Available metrics are: loss,accuracy,val_loss,val_accuracy,lr\n"
          ]
        },
        {
          "output_type": "stream",
          "name": "stdout",
          "text": [
            "\b\b\b\b\b\b\b\b\b\b\b\b\b\b\b\b\b\b\b\b\b\b\b\b\b\b\b\b\b\b\b\b\b\b\b\b\b\b\b\b\b\b\b\b\b\b\b\b\b\b\b\b\b\b\b\b\b\b\b\b\b\b\b\b\b\b\b\b\b\b\b\b\b\b\b\b\b\b\b\b\b\b\r42/42 [==============================] - 0s 7ms/step - loss: 0.2046 - accuracy: 0.9071 - val_loss: 0.3188 - val_accuracy: 0.8621 - lr: 0.0010\n",
            "Epoch 36/50\n",
            "40/42 [===========================>..] - ETA: 0s - loss: 0.1955 - accuracy: 0.9043"
          ]
        },
        {
          "output_type": "stream",
          "name": "stderr",
          "text": [
            "WARNING:tensorflow:Learning rate reduction is conditioned on metric `val_acc` which is not available. Available metrics are: loss,accuracy,val_loss,val_accuracy,lr\n"
          ]
        },
        {
          "output_type": "stream",
          "name": "stdout",
          "text": [
            "\b\b\b\b\b\b\b\b\b\b\b\b\b\b\b\b\b\b\b\b\b\b\b\b\b\b\b\b\b\b\b\b\b\b\b\b\b\b\b\b\b\b\b\b\b\b\b\b\b\b\b\b\b\b\b\b\b\b\b\b\b\b\b\b\b\b\b\b\b\b\b\b\b\b\b\b\b\b\b\b\b\b\r42/42 [==============================] - 0s 7ms/step - loss: 0.1942 - accuracy: 0.9052 - val_loss: 0.3613 - val_accuracy: 0.8530 - lr: 0.0010\n",
            "Epoch 37/50\n",
            "41/42 [============================>.] - ETA: 0s - loss: 0.2096 - accuracy: 0.9043"
          ]
        },
        {
          "output_type": "stream",
          "name": "stderr",
          "text": [
            "WARNING:tensorflow:Learning rate reduction is conditioned on metric `val_acc` which is not available. Available metrics are: loss,accuracy,val_loss,val_accuracy,lr\n"
          ]
        },
        {
          "output_type": "stream",
          "name": "stdout",
          "text": [
            "\b\b\b\b\b\b\b\b\b\b\b\b\b\b\b\b\b\b\b\b\b\b\b\b\b\b\b\b\b\b\b\b\b\b\b\b\b\b\b\b\b\b\b\b\b\b\b\b\b\b\b\b\b\b\b\b\b\b\b\b\b\b\b\b\b\b\b\b\b\b\b\b\b\b\b\b\b\b\b\b\b\b\r42/42 [==============================] - 0s 6ms/step - loss: 0.2097 - accuracy: 0.9041 - val_loss: 0.3275 - val_accuracy: 0.8485 - lr: 0.0010\n",
            "Epoch 38/50\n",
            "41/42 [============================>.] - ETA: 0s - loss: 0.2001 - accuracy: 0.9078"
          ]
        },
        {
          "output_type": "stream",
          "name": "stderr",
          "text": [
            "WARNING:tensorflow:Learning rate reduction is conditioned on metric `val_acc` which is not available. Available metrics are: loss,accuracy,val_loss,val_accuracy,lr\n"
          ]
        },
        {
          "output_type": "stream",
          "name": "stdout",
          "text": [
            "\b\b\b\b\b\b\b\b\b\b\b\b\b\b\b\b\b\b\b\b\b\b\b\b\b\b\b\b\b\b\b\b\b\b\b\b\b\b\b\b\b\b\b\b\b\b\b\b\b\b\b\b\b\b\b\b\b\b\b\b\b\b\b\b\b\b\b\b\b\b\b\b\b\b\b\b\b\b\b\b\b\b\r42/42 [==============================] - 0s 7ms/step - loss: 0.1995 - accuracy: 0.9082 - val_loss: 0.3282 - val_accuracy: 0.8485 - lr: 0.0010\n",
            "Epoch 39/50\n",
            "40/42 [===========================>..] - ETA: 0s - loss: 0.1802 - accuracy: 0.9187"
          ]
        },
        {
          "output_type": "stream",
          "name": "stderr",
          "text": [
            "WARNING:tensorflow:Learning rate reduction is conditioned on metric `val_acc` which is not available. Available metrics are: loss,accuracy,val_loss,val_accuracy,lr\n"
          ]
        },
        {
          "output_type": "stream",
          "name": "stdout",
          "text": [
            "\b\b\b\b\b\b\b\b\b\b\b\b\b\b\b\b\b\b\b\b\b\b\b\b\b\b\b\b\b\b\b\b\b\b\b\b\b\b\b\b\b\b\b\b\b\b\b\b\b\b\b\b\b\b\b\b\b\b\b\b\b\b\b\b\b\b\b\b\b\b\b\b\b\b\b\b\b\b\b\b\b\b\r42/42 [==============================] - 0s 7ms/step - loss: 0.1847 - accuracy: 0.9166 - val_loss: 0.3527 - val_accuracy: 0.8333 - lr: 0.0010\n",
            "Epoch 40/50\n",
            "41/42 [============================>.] - ETA: 0s - loss: 0.2103 - accuracy: 0.9032"
          ]
        },
        {
          "output_type": "stream",
          "name": "stderr",
          "text": [
            "WARNING:tensorflow:Learning rate reduction is conditioned on metric `val_acc` which is not available. Available metrics are: loss,accuracy,val_loss,val_accuracy,lr\n"
          ]
        },
        {
          "output_type": "stream",
          "name": "stdout",
          "text": [
            "\b\b\b\b\b\b\b\b\b\b\b\b\b\b\b\b\b\b\b\b\b\b\b\b\b\b\b\b\b\b\b\b\b\b\b\b\b\b\b\b\b\b\b\b\b\b\b\b\b\b\b\b\b\b\b\b\b\b\b\b\b\b\b\b\b\b\b\b\b\b\b\b\b\b\b\b\b\b\b\b\b\b\r42/42 [==============================] - 0s 7ms/step - loss: 0.2098 - accuracy: 0.9033 - val_loss: 0.3353 - val_accuracy: 0.8652 - lr: 0.0010\n",
            "Epoch 41/50\n",
            "40/42 [===========================>..] - ETA: 0s - loss: 0.1797 - accuracy: 0.9184"
          ]
        },
        {
          "output_type": "stream",
          "name": "stderr",
          "text": [
            "WARNING:tensorflow:Learning rate reduction is conditioned on metric `val_acc` which is not available. Available metrics are: loss,accuracy,val_loss,val_accuracy,lr\n"
          ]
        },
        {
          "output_type": "stream",
          "name": "stdout",
          "text": [
            "\b\b\b\b\b\b\b\b\b\b\b\b\b\b\b\b\b\b\b\b\b\b\b\b\b\b\b\b\b\b\b\b\b\b\b\b\b\b\b\b\b\b\b\b\b\b\b\b\b\b\b\b\b\b\b\b\b\b\b\b\b\b\b\b\b\b\b\b\b\b\b\b\b\b\b\b\b\b\b\b\b\b\r42/42 [==============================] - 0s 8ms/step - loss: 0.1829 - accuracy: 0.9170 - val_loss: 0.3350 - val_accuracy: 0.8621 - lr: 0.0010\n",
            "Epoch 42/50\n",
            "40/42 [===========================>..] - ETA: 0s - loss: 0.1853 - accuracy: 0.9133"
          ]
        },
        {
          "output_type": "stream",
          "name": "stderr",
          "text": [
            "WARNING:tensorflow:Learning rate reduction is conditioned on metric `val_acc` which is not available. Available metrics are: loss,accuracy,val_loss,val_accuracy,lr\n"
          ]
        },
        {
          "output_type": "stream",
          "name": "stdout",
          "text": [
            "\b\b\b\b\b\b\b\b\b\b\b\b\b\b\b\b\b\b\b\b\b\b\b\b\b\b\b\b\b\b\b\b\b\b\b\b\b\b\b\b\b\b\b\b\b\b\b\b\b\b\b\b\b\b\b\b\b\b\b\b\b\b\b\b\b\b\b\b\b\b\b\b\b\b\b\b\b\b\b\b\b\b\r42/42 [==============================] - 0s 7ms/step - loss: 0.1883 - accuracy: 0.9124 - val_loss: 0.3381 - val_accuracy: 0.8667 - lr: 0.0010\n",
            "Epoch 43/50\n",
            "41/42 [============================>.] - ETA: 0s - loss: 0.1905 - accuracy: 0.9074"
          ]
        },
        {
          "output_type": "stream",
          "name": "stderr",
          "text": [
            "WARNING:tensorflow:Learning rate reduction is conditioned on metric `val_acc` which is not available. Available metrics are: loss,accuracy,val_loss,val_accuracy,lr\n"
          ]
        },
        {
          "output_type": "stream",
          "name": "stdout",
          "text": [
            "\b\b\b\b\b\b\b\b\b\b\b\b\b\b\b\b\b\b\b\b\b\b\b\b\b\b\b\b\b\b\b\b\b\b\b\b\b\b\b\b\b\b\b\b\b\b\b\b\b\b\b\b\b\b\b\b\b\b\b\b\b\b\b\b\b\b\b\b\b\b\b\b\b\b\b\b\b\b\b\b\b\b\r42/42 [==============================] - 0s 7ms/step - loss: 0.1898 - accuracy: 0.9078 - val_loss: 0.3429 - val_accuracy: 0.8485 - lr: 0.0010\n",
            "Epoch 44/50\n",
            "41/42 [============================>.] - ETA: 0s - loss: 0.1885 - accuracy: 0.9181"
          ]
        },
        {
          "output_type": "stream",
          "name": "stderr",
          "text": [
            "WARNING:tensorflow:Learning rate reduction is conditioned on metric `val_acc` which is not available. Available metrics are: loss,accuracy,val_loss,val_accuracy,lr\n"
          ]
        },
        {
          "output_type": "stream",
          "name": "stdout",
          "text": [
            "\b\b\b\b\b\b\b\b\b\b\b\b\b\b\b\b\b\b\b\b\b\b\b\b\b\b\b\b\b\b\b\b\b\b\b\b\b\b\b\b\b\b\b\b\b\b\b\b\b\b\b\b\b\b\b\b\b\b\b\b\b\b\b\b\b\b\b\b\b\b\b\b\b\b\b\b\b\b\b\b\b\b\r42/42 [==============================] - 0s 7ms/step - loss: 0.1885 - accuracy: 0.9181 - val_loss: 0.3809 - val_accuracy: 0.8258 - lr: 0.0010\n",
            "Epoch 45/50\n",
            "40/42 [===========================>..] - ETA: 0s - loss: 0.1846 - accuracy: 0.9137"
          ]
        },
        {
          "output_type": "stream",
          "name": "stderr",
          "text": [
            "WARNING:tensorflow:Learning rate reduction is conditioned on metric `val_acc` which is not available. Available metrics are: loss,accuracy,val_loss,val_accuracy,lr\n"
          ]
        },
        {
          "output_type": "stream",
          "name": "stdout",
          "text": [
            "\b\b\b\b\b\b\b\b\b\b\b\b\b\b\b\b\b\b\b\b\b\b\b\b\b\b\b\b\b\b\b\b\b\b\b\b\b\b\b\b\b\b\b\b\b\b\b\b\b\b\b\b\b\b\b\b\b\b\b\b\b\b\b\b\b\b\b\b\b\b\b\b\b\b\b\b\b\b\b\b\b\b\r42/42 [==============================] - 0s 7ms/step - loss: 0.1856 - accuracy: 0.9124 - val_loss: 0.3470 - val_accuracy: 0.8500 - lr: 0.0010\n",
            "Epoch 46/50\n",
            "40/42 [===========================>..] - ETA: 0s - loss: 0.1504 - accuracy: 0.9387"
          ]
        },
        {
          "output_type": "stream",
          "name": "stderr",
          "text": [
            "WARNING:tensorflow:Learning rate reduction is conditioned on metric `val_acc` which is not available. Available metrics are: loss,accuracy,val_loss,val_accuracy,lr\n"
          ]
        },
        {
          "output_type": "stream",
          "name": "stdout",
          "text": [
            "\b\b\b\b\b\b\b\b\b\b\b\b\b\b\b\b\b\b\b\b\b\b\b\b\b\b\b\b\b\b\b\b\b\b\b\b\b\b\b\b\b\b\b\b\b\b\b\b\b\b\b\b\b\b\b\b\b\b\b\b\b\b\b\b\b\b\b\b\b\b\b\b\b\b\b\b\b\b\b\b\b\b\r42/42 [==============================] - 0s 7ms/step - loss: 0.1544 - accuracy: 0.9359 - val_loss: 0.3502 - val_accuracy: 0.8561 - lr: 0.0010\n",
            "Epoch 47/50\n",
            "39/42 [==========================>...] - ETA: 0s - loss: 0.1595 - accuracy: 0.9267"
          ]
        },
        {
          "output_type": "stream",
          "name": "stderr",
          "text": [
            "WARNING:tensorflow:Learning rate reduction is conditioned on metric `val_acc` which is not available. Available metrics are: loss,accuracy,val_loss,val_accuracy,lr\n"
          ]
        },
        {
          "output_type": "stream",
          "name": "stdout",
          "text": [
            "\b\b\b\b\b\b\b\b\b\b\b\b\b\b\b\b\b\b\b\b\b\b\b\b\b\b\b\b\b\b\b\b\b\b\b\b\b\b\b\b\b\b\b\b\b\b\b\b\b\b\b\b\b\b\b\b\b\b\b\b\b\b\b\b\b\b\b\b\b\b\b\b\b\b\b\b\b\b\b\b\b\b\r42/42 [==============================] - 0s 7ms/step - loss: 0.1553 - accuracy: 0.9298 - val_loss: 0.3518 - val_accuracy: 0.8636 - lr: 0.0010\n",
            "Epoch 48/50\n",
            "38/42 [==========================>...] - ETA: 0s - loss: 0.1517 - accuracy: 0.9280"
          ]
        },
        {
          "output_type": "stream",
          "name": "stderr",
          "text": [
            "WARNING:tensorflow:Learning rate reduction is conditioned on metric `val_acc` which is not available. Available metrics are: loss,accuracy,val_loss,val_accuracy,lr\n"
          ]
        },
        {
          "output_type": "stream",
          "name": "stdout",
          "text": [
            "\b\b\b\b\b\b\b\b\b\b\b\b\b\b\b\b\b\b\b\b\b\b\b\b\b\b\b\b\b\b\b\b\b\b\b\b\b\b\b\b\b\b\b\b\b\b\b\b\b\b\b\b\b\b\b\b\b\b\b\b\b\b\b\b\b\b\b\b\b\b\b\b\b\b\b\b\b\b\b\b\b\b\r42/42 [==============================] - 0s 8ms/step - loss: 0.1529 - accuracy: 0.9264 - val_loss: 0.3639 - val_accuracy: 0.8364 - lr: 0.0010\n",
            "Epoch 49/50\n",
            "36/42 [========================>.....] - ETA: 0s - loss: 0.1477 - accuracy: 0.9297"
          ]
        },
        {
          "output_type": "stream",
          "name": "stderr",
          "text": [
            "WARNING:tensorflow:Learning rate reduction is conditioned on metric `val_acc` which is not available. Available metrics are: loss,accuracy,val_loss,val_accuracy,lr\n"
          ]
        },
        {
          "output_type": "stream",
          "name": "stdout",
          "text": [
            "\b\b\b\b\b\b\b\b\b\b\b\b\b\b\b\b\b\b\b\b\b\b\b\b\b\b\b\b\b\b\b\b\b\b\b\b\b\b\b\b\b\b\b\b\b\b\b\b\b\b\b\b\b\b\b\b\b\b\b\b\b\b\b\b\b\b\b\b\b\b\b\b\b\b\b\b\b\b\b\b\b\b\r42/42 [==============================] - 0s 7ms/step - loss: 0.1482 - accuracy: 0.9295 - val_loss: 0.4313 - val_accuracy: 0.8303 - lr: 0.0010\n",
            "Epoch 50/50\n",
            "39/42 [==========================>...] - ETA: 0s - loss: 0.1667 - accuracy: 0.9263"
          ]
        },
        {
          "output_type": "stream",
          "name": "stderr",
          "text": [
            "WARNING:tensorflow:Learning rate reduction is conditioned on metric `val_acc` which is not available. Available metrics are: loss,accuracy,val_loss,val_accuracy,lr\n"
          ]
        },
        {
          "output_type": "stream",
          "name": "stdout",
          "text": [
            "\b\b\b\b\b\b\b\b\b\b\b\b\b\b\b\b\b\b\b\b\b\b\b\b\b\b\b\b\b\b\b\b\b\b\b\b\b\b\b\b\b\b\b\b\b\b\b\b\b\b\b\b\b\b\b\b\b\b\b\b\b\b\b\b\b\b\b\b\b\b\b\b\b\b\b\b\b\b\b\b\b\b\r42/42 [==============================] - 0s 7ms/step - loss: 0.1657 - accuracy: 0.9276 - val_loss: 0.3831 - val_accuracy: 0.8591 - lr: 0.0010\n",
            "dict_keys(['loss', 'accuracy', 'val_loss', 'val_accuracy', 'lr'])\n"
          ]
        }
      ],
      "source": [
        "from keras.callbacks import ReduceLROnPlateau\n",
        "learning_rate_annealer = ReduceLROnPlateau(monitor='val_acc',mode='max',\n",
        "                                          patience=3,\n",
        "                                          verbose=1,\n",
        "                                          factor=0.5,\n",
        "                                          min_lr = 1e-4)\n",
        "\n",
        "\n",
        "history = model_cnn.fit(X_train,\n",
        "                    y_train,\n",
        "                    validation_split=0.2,\n",
        "                    epochs=50,\n",
        "                    batch_size = 64,\n",
        "                    verbose=1,\n",
        "                    callbacks=[learning_rate_annealer],validation_data=(X_test,y_test))\n",
        "\n",
        "\n",
        "\n",
        "print(history.history.keys())"
      ]
    },
    {
      "cell_type": "code",
      "execution_count": null,
      "metadata": {
        "id": "o2uYVaYjueBL",
        "colab": {
          "base_uri": "https://localhost:8080/",
          "height": 573
        },
        "outputId": "b208f2dd-f4f4-4eaa-d3d4-874487a433b3"
      },
      "outputs": [
        {
          "output_type": "display_data",
          "data": {
            "text/plain": [
              "<Figure size 432x288 with 1 Axes>"
            ],
            "image/png": "[encoded data removed]"
          },
          "metadata": {
            "needs_background": "light"
          }
        },
        {
          "output_type": "display_data",
          "data": {
            "text/plain": [
              "<Figure size 432x288 with 1 Axes>"
            ],
            "image/png": "[encoded data removed]"
          },
          "metadata": {
            "needs_background": "light"
          }
        }
      ],
      "source": [
        "#plotting acuracy and loss\n",
        "plt.plot(history.history['accuracy'])\n",
        "plt.plot(history.history['val_accuracy'])\n",
        "\n",
        "plt.title('Model Accuracy')\n",
        "plt.ylabel('Accuracy')\n",
        "plt.xlabel('Epochs')\n",
        "\n",
        "plt.legend(['Train', 'Val'], loc='upper left')\n",
        "plt.show()\n",
        "\n",
        "\n",
        "plt.plot(history.history['loss'])\n",
        "plt.plot(history.history['val_loss'])\n",
        "plt.title('Model Loss')\n",
        "plt.ylabel('Loss')\n",
        "plt.xlabel('Epochs')\n",
        "\n",
        "plt.legend(['Train', 'Val'], loc='upper left')\n",
        "plt.show()"
      ]
    },
    {
      "cell_type": "code",
      "source": [
        "import tensorflow as tf\n",
        "tf.keras.utils.plot_model(model_cnn)"
      ],
      "metadata": {
        "id": "GBnZN0zlr09q",
        "colab": {
          "base_uri": "https://localhost:8080/",
          "height": 1000
        },
        "outputId": "771aaff9-7bc2-4170-d603-8fb33b8a2a2d"
      },
      "execution_count": null,
      "outputs": [
        {
          "output_type": "execute_result",
          "data": {
            "image/png": "[encoded data removed]",
            "text/plain": [
              "<IPython.core.display.Image object>"
            ]
          },
          "metadata": {},
          "execution_count": 19
        }
      ]
    },
    {
      "cell_type": "code",
      "source": [
        "!pip install keras_efficientnets"
      ],
      "metadata": {
        "id": "hSxpcE-HelcV",
        "colab": {
          "base_uri": "https://localhost:8080/"
        },
        "outputId": "57d1cf08-2f99-4a97-fcf8-11305d6354b4"
      },
      "execution_count": null,
      "outputs": [
        {
          "output_type": "stream",
          "name": "stdout",
          "text": [
            "Looking in indexes: https://pypi.org/simple, https://us-python.pkg.dev/colab-wheels/public/simple/\n",
            "Collecting keras_efficientnets\n",
            "  Downloading keras_efficientnets-0.1.7-py2.py3-none-any.whl (15 kB)\n",
            "Requirement already satisfied: scipy>=1.1.0 in /usr/local/lib/python3.8/dist-packages (from keras_efficientnets) (1.7.3)\n",
            "Requirement already satisfied: scikit-learn>=0.21.2 in /usr/local/lib/python3.8/dist-packages (from keras_efficientnets) (1.0.2)\n",
            "Requirement already satisfied: keras>=2.2.4 in /usr/local/lib/python3.8/dist-packages (from keras_efficientnets) (2.9.0)\n",
            "Requirement already satisfied: numpy>=1.14.6 in /usr/local/lib/python3.8/dist-packages (from scikit-learn>=0.21.2->keras_efficientnets) (1.21.6)\n",
            "Requirement already satisfied: joblib>=0.11 in /usr/local/lib/python3.8/dist-packages (from scikit-learn>=0.21.2->keras_efficientnets) (1.2.0)\n",
            "Requirement already satisfied: threadpoolctl>=2.0.0 in /usr/local/lib/python3.8/dist-packages (from scikit-learn>=0.21.2->keras_efficientnets) (3.1.0)\n",
            "Installing collected packages: keras-efficientnets\n",
            "Successfully installed keras-efficientnets-0.1.7\n"
          ]
        }
      ]
    },
    {
      "cell_type": "code",
      "source": [
        "!pip install keras_applications"
      ],
      "metadata": {
        "id": "OnvwkEvTfzrz",
        "colab": {
          "base_uri": "https://localhost:8080/"
        },
        "outputId": "472e7dbb-372e-466b-8bdf-bb5552d6fea1"
      },
      "execution_count": null,
      "outputs": [
        {
          "output_type": "stream",
          "name": "stdout",
          "text": [
            "Looking in indexes: https://pypi.org/simple, https://us-python.pkg.dev/colab-wheels/public/simple/\n",
            "Collecting keras_applications\n",
            "  Downloading Keras_Applications-1.0.8-py3-none-any.whl (50 kB)\n",
            "\u001b[K     |████████████████████████████████| 50 kB 6.3 MB/s \n",
            "\u001b[?25hRequirement already satisfied: h5py in /usr/local/lib/python3.8/dist-packages (from keras_applications) (3.1.0)\n",
            "Requirement already satisfied: numpy>=1.9.1 in /usr/local/lib/python3.8/dist-packages (from keras_applications) (1.21.6)\n",
            "Installing collected packages: keras-applications\n",
            "Successfully installed keras-applications-1.0.8\n"
          ]
        }
      ]
    },
    {
      "cell_type": "code",
      "source": [
        "import keras_applications\n",
        "from keras_efficientnets import EfficientNetB5\n",
        "base_model = EfficientNetB5(include_top=False, weights=\"imagenet\", input_shape=(32,32,3),classes=y_train.shape[1])"
      ],
      "metadata": {
        "id": "qnjwig_Uf3Ks",
        "colab": {
          "base_uri": "https://localhost:8080/"
        },
        "outputId": "5af639cf-886b-498d-fbf9-f62a240f8205"
      },
      "execution_count": null,
      "outputs": [
        {
          "output_type": "stream",
          "name": "stdout",
          "text": [
            "Downloading data from https://github.com/titu1994/keras-efficientnets/releases/download/v0.1/efficientnet-b5_notop.h5\n",
            "115295288/115295288 [==============================] - 28s 0us/step\n"
          ]
        }
      ]
    },
    {
      "cell_type": "code",
      "source": [
        "from keras.models import Sequential, Model\n",
        "from keras.layers import Dense, Dropout, Flatten, Conv2D, MaxPool2D\n",
        "from keras.optimizers import Adam, RMSprop\n",
        "from tensorflow.keras.preprocessing.image import ImageDataGenerator\n",
        "def build_cnn_model(input_shape = (32, 32, 3), num_classes=2):\n",
        "    model = Sequential()\n",
        "    model.add(base_model)\n",
        "    model.add(Flatten())\n",
        "\n",
        "    model.add(Dense(128, activation='relu', kernel_initializer='normal'))\n",
        "    model.add(Dense(128, activation='relu', kernel_initializer='normal'))\n",
        "\n",
        "    model.add(Dense(2, activation = 'softmax'))\n",
        "    model.summary()\n",
        "    optimizer= Adam(lr=0.001)\n",
        "\n",
        "    model.compile(optimizer = optimizer, loss='binary_crossentropy', metrics=[\"accuracy\"])\n",
        "\n",
        "    return model"
      ],
      "metadata": {
        "id": "MHa_62FAf3lP"
      },
      "execution_count": null,
      "outputs": []
    },
    {
      "cell_type": "code",
      "source": [
        "model_cnn = build_cnn_model()"
      ],
      "metadata": {
        "id": "ywtqooiwgJjc",
        "colab": {
          "base_uri": "https://localhost:8080/"
        },
        "outputId": "195a3e1a-4808-40b6-dfa3-6e774d20cf88"
      },
      "execution_count": null,
      "outputs": [
        {
          "output_type": "stream",
          "name": "stdout",
          "text": [
            "Model: \"sequential_1\"\n",
            "_________________________________________________________________\n",
            " Layer (type)                Output Shape              Param #   \n",
            "=================================================================\n",
            " model (Functional)          (None, 1, 1, 2048)        28513520  \n",
            "                                                                 \n",
            " flatten_1 (Flatten)         (None, 2048)              0         \n",
            "                                                                 \n",
            " dense_3 (Dense)             (None, 128)               262272    \n",
            "                                                                 \n",
            " dense_4 (Dense)             (None, 128)               16512     \n",
            "                                                                 \n",
            " dense_5 (Dense)             (None, 2)                 258       \n",
            "                                                                 \n",
            "=================================================================\n",
            "Total params: 28,792,562\n",
            "Trainable params: 28,619,826\n",
            "Non-trainable params: 172,736\n",
            "_________________________________________________________________\n"
          ]
        }
      ]
    },
    {
      "cell_type": "code",
      "source": [
        "from keras.callbacks import ReduceLROnPlateau\n",
        "learning_rate_annealer = ReduceLROnPlateau(monitor='val_acc',mode='max',\n",
        "                                          patience=3,\n",
        "                                          verbose=1,\n",
        "                                          factor=0.5,\n",
        "                                          min_lr = 1e-4)\n",
        "\n",
        "\n",
        "history = model_cnn .fit(X_train,\n",
        "                    y_train,\n",
        "                    validation_split=0.2,\n",
        "                    epochs=50,\n",
        "                    batch_size = 64,\n",
        "                    verbose=1,\n",
        "                    callbacks=[learning_rate_annealer],validation_data=(X_test,y_test))\n",
        "\n",
        "\n",
        "\n",
        "print(history.history.keys())"
      ],
      "metadata": {
        "id": "yP9bfivogKeN",
        "colab": {
          "base_uri": "https://localhost:8080/"
        },
        "outputId": "bfe88c47-4aa5-448a-db01-fb5b92a2342b"
      },
      "execution_count": null,
      "outputs": [
        {
          "output_type": "stream",
          "name": "stdout",
          "text": [
            "Epoch 1/50\n",
            "42/42 [==============================] - ETA: 0s - loss: 0.4469 - accuracy: 0.7812"
          ]
        },
        {
          "output_type": "stream",
          "name": "stderr",
          "text": [
            "WARNING:tensorflow:Learning rate reduction is conditioned on metric `val_acc` which is not available. Available metrics are: loss,accuracy,val_loss,val_accuracy,lr\n"
          ]
        },
        {
          "output_type": "stream",
          "name": "stdout",
          "text": [
            "\b\b\b\b\b\b\b\b\b\b\b\b\b\b\b\b\b\b\b\b\b\b\b\b\b\b\b\b\b\b\b\b\b\b\b\b\b\b\b\b\b\b\b\b\b\b\b\b\b\b\b\b\b\b\b\b\b\b\b\b\b\b\b\b\b\b\b\b\b\b\b\b\b\b\b\b\b\b\b\b\b\b\r42/42 [==============================] - 38s 222ms/step - loss: 0.4469 - accuracy: 0.7812 - val_loss: 6.8728 - val_accuracy: 0.5455 - lr: 0.0010\n",
            "Epoch 2/50\n",
            "42/42 [==============================] - ETA: 0s - loss: 0.3152 - accuracy: 0.8665"
          ]
        },
        {
          "output_type": "stream",
          "name": "stderr",
          "text": [
            "WARNING:tensorflow:Learning rate reduction is conditioned on metric `val_acc` which is not available. Available metrics are: loss,accuracy,val_loss,val_accuracy,lr\n"
          ]
        },
        {
          "output_type": "stream",
          "name": "stdout",
          "text": [
            "\b\b\b\b\b\b\b\b\b\b\b\b\b\b\b\b\b\b\b\b\b\b\b\b\b\b\b\b\b\b\b\b\b\b\b\b\b\b\b\b\b\b\b\b\b\b\b\b\b\b\b\b\b\b\b\b\b\b\b\b\b\b\b\b\b\b\b\b\b\b\b\b\b\b\b\b\b\b\b\b\b\b\r42/42 [==============================] - 4s 91ms/step - loss: 0.3152 - accuracy: 0.8665 - val_loss: 1.0110 - val_accuracy: 0.5455 - lr: 0.0010\n",
            "Epoch 3/50\n",
            "42/42 [==============================] - ETA: 0s - loss: 0.2903 - accuracy: 0.8805"
          ]
        },
        {
          "output_type": "stream",
          "name": "stderr",
          "text": [
            "WARNING:tensorflow:Learning rate reduction is conditioned on metric `val_acc` which is not available. Available metrics are: loss,accuracy,val_loss,val_accuracy,lr\n"
          ]
        },
        {
          "output_type": "stream",
          "name": "stdout",
          "text": [
            "\b\b\b\b\b\b\b\b\b\b\b\b\b\b\b\b\b\b\b\b\b\b\b\b\b\b\b\b\b\b\b\b\b\b\b\b\b\b\b\b\b\b\b\b\b\b\b\b\b\b\b\b\b\b\b\b\b\b\b\b\b\b\b\b\b\b\b\b\b\b\b\b\b\b\b\b\b\b\b\b\b\b\r42/42 [==============================] - 4s 91ms/step - loss: 0.2903 - accuracy: 0.8805 - val_loss: 3.8999 - val_accuracy: 0.5455 - lr: 0.0010\n",
            "Epoch 4/50\n",
            "42/42 [==============================] - ETA: 0s - loss: 0.1994 - accuracy: 0.9188"
          ]
        },
        {
          "output_type": "stream",
          "name": "stderr",
          "text": [
            "WARNING:tensorflow:Learning rate reduction is conditioned on metric `val_acc` which is not available. Available metrics are: loss,accuracy,val_loss,val_accuracy,lr\n"
          ]
        },
        {
          "output_type": "stream",
          "name": "stdout",
          "text": [
            "\b\b\b\b\b\b\b\b\b\b\b\b\b\b\b\b\b\b\b\b\b\b\b\b\b\b\b\b\b\b\b\b\b\b\b\b\b\b\b\b\b\b\b\b\b\b\b\b\b\b\b\b\b\b\b\b\b\b\b\b\b\b\b\b\b\b\b\b\b\b\b\b\b\b\b\b\b\b\b\b\b\b\r42/42 [==============================] - 4s 92ms/step - loss: 0.1994 - accuracy: 0.9188 - val_loss: 1.2811 - val_accuracy: 0.6485 - lr: 0.0010\n",
            "Epoch 5/50\n",
            "42/42 [==============================] - ETA: 0s - loss: 0.1532 - accuracy: 0.9344"
          ]
        },
        {
          "output_type": "stream",
          "name": "stderr",
          "text": [
            "WARNING:tensorflow:Learning rate reduction is conditioned on metric `val_acc` which is not available. Available metrics are: loss,accuracy,val_loss,val_accuracy,lr\n"
          ]
        },
        {
          "output_type": "stream",
          "name": "stdout",
          "text": [
            "\b\b\b\b\b\b\b\b\b\b\b\b\b\b\b\b\b\b\b\b\b\b\b\b\b\b\b\b\b\b\b\b\b\b\b\b\b\b\b\b\b\b\b\b\b\b\b\b\b\b\b\b\b\b\b\b\b\b\b\b\b\b\b\b\b\b\b\b\b\b\b\b\b\b\b\b\b\b\b\b\b\b\r42/42 [==============================] - 4s 103ms/step - loss: 0.1532 - accuracy: 0.9344 - val_loss: 1.1890 - val_accuracy: 0.7697 - lr: 0.0010\n",
            "Epoch 6/50\n",
            "42/42 [==============================] - ETA: 0s - loss: 0.1750 - accuracy: 0.9287"
          ]
        },
        {
          "output_type": "stream",
          "name": "stderr",
          "text": [
            "WARNING:tensorflow:Learning rate reduction is conditioned on metric `val_acc` which is not available. Available metrics are: loss,accuracy,val_loss,val_accuracy,lr\n"
          ]
        },
        {
          "output_type": "stream",
          "name": "stdout",
          "text": [
            "\b\b\b\b\b\b\b\b\b\b\b\b\b\b\b\b\b\b\b\b\b\b\b\b\b\b\b\b\b\b\b\b\b\b\b\b\b\b\b\b\b\b\b\b\b\b\b\b\b\b\b\b\b\b\b\b\b\b\b\b\b\b\b\b\b\b\b\b\b\b\b\b\b\b\b\b\b\b\b\b\b\b\r42/42 [==============================] - 4s 91ms/step - loss: 0.1750 - accuracy: 0.9287 - val_loss: 0.9783 - val_accuracy: 0.7697 - lr: 0.0010\n",
            "Epoch 7/50\n",
            "42/42 [==============================] - ETA: 0s - loss: 0.1522 - accuracy: 0.9401"
          ]
        },
        {
          "output_type": "stream",
          "name": "stderr",
          "text": [
            "WARNING:tensorflow:Learning rate reduction is conditioned on metric `val_acc` which is not available. Available metrics are: loss,accuracy,val_loss,val_accuracy,lr\n"
          ]
        },
        {
          "output_type": "stream",
          "name": "stdout",
          "text": [
            "\b\b\b\b\b\b\b\b\b\b\b\b\b\b\b\b\b\b\b\b\b\b\b\b\b\b\b\b\b\b\b\b\b\b\b\b\b\b\b\b\b\b\b\b\b\b\b\b\b\b\b\b\b\b\b\b\b\b\b\b\b\b\b\b\b\b\b\b\b\b\b\b\b\b\b\b\b\b\b\b\b\b\r42/42 [==============================] - 4s 93ms/step - loss: 0.1522 - accuracy: 0.9401 - val_loss: 0.7786 - val_accuracy: 0.8106 - lr: 0.0010\n",
            "Epoch 8/50\n",
            "42/42 [==============================] - ETA: 0s - loss: 0.1232 - accuracy: 0.9541"
          ]
        },
        {
          "output_type": "stream",
          "name": "stderr",
          "text": [
            "WARNING:tensorflow:Learning rate reduction is conditioned on metric `val_acc` which is not available. Available metrics are: loss,accuracy,val_loss,val_accuracy,lr\n"
          ]
        },
        {
          "output_type": "stream",
          "name": "stdout",
          "text": [
            "\b\b\b\b\b\b\b\b\b\b\b\b\b\b\b\b\b\b\b\b\b\b\b\b\b\b\b\b\b\b\b\b\b\b\b\b\b\b\b\b\b\b\b\b\b\b\b\b\b\b\b\b\b\b\b\b\b\b\b\b\b\b\b\b\b\b\b\b\b\b\b\b\b\b\b\b\b\b\b\b\b\b\r42/42 [==============================] - 4s 106ms/step - loss: 0.1232 - accuracy: 0.9541 - val_loss: 0.6177 - val_accuracy: 0.8197 - lr: 0.0010\n",
            "Epoch 9/50\n",
            "42/42 [==============================] - ETA: 0s - loss: 0.1049 - accuracy: 0.9628"
          ]
        },
        {
          "output_type": "stream",
          "name": "stderr",
          "text": [
            "WARNING:tensorflow:Learning rate reduction is conditioned on metric `val_acc` which is not available. Available metrics are: loss,accuracy,val_loss,val_accuracy,lr\n"
          ]
        },
        {
          "output_type": "stream",
          "name": "stdout",
          "text": [
            "\b\b\b\b\b\b\b\b\b\b\b\b\b\b\b\b\b\b\b\b\b\b\b\b\b\b\b\b\b\b\b\b\b\b\b\b\b\b\b\b\b\b\b\b\b\b\b\b\b\b\b\b\b\b\b\b\b\b\b\b\b\b\b\b\b\b\b\b\b\b\b\b\b\b\b\b\b\b\b\b\b\b\r42/42 [==============================] - 4s 93ms/step - loss: 0.1049 - accuracy: 0.9628 - val_loss: 0.5810 - val_accuracy: 0.8348 - lr: 0.0010\n",
            "Epoch 10/50\n",
            "42/42 [==============================] - ETA: 0s - loss: 0.0692 - accuracy: 0.9757"
          ]
        },
        {
          "output_type": "stream",
          "name": "stderr",
          "text": [
            "WARNING:tensorflow:Learning rate reduction is conditioned on metric `val_acc` which is not available. Available metrics are: loss,accuracy,val_loss,val_accuracy,lr\n"
          ]
        },
        {
          "output_type": "stream",
          "name": "stdout",
          "text": [
            "\b\b\b\b\b\b\b\b\b\b\b\b\b\b\b\b\b\b\b\b\b\b\b\b\b\b\b\b\b\b\b\b\b\b\b\b\b\b\b\b\b\b\b\b\b\b\b\b\b\b\b\b\b\b\b\b\b\b\b\b\b\b\b\b\b\b\b\b\b\b\b\b\b\b\b\b\b\b\b\b\b\b\r42/42 [==============================] - 4s 92ms/step - loss: 0.0692 - accuracy: 0.9757 - val_loss: 0.5703 - val_accuracy: 0.8212 - lr: 0.0010\n",
            "Epoch 11/50\n",
            "42/42 [==============================] - ETA: 0s - loss: 0.1286 - accuracy: 0.9537"
          ]
        },
        {
          "output_type": "stream",
          "name": "stderr",
          "text": [
            "WARNING:tensorflow:Learning rate reduction is conditioned on metric `val_acc` which is not available. Available metrics are: loss,accuracy,val_loss,val_accuracy,lr\n"
          ]
        },
        {
          "output_type": "stream",
          "name": "stdout",
          "text": [
            "\b\b\b\b\b\b\b\b\b\b\b\b\b\b\b\b\b\b\b\b\b\b\b\b\b\b\b\b\b\b\b\b\b\b\b\b\b\b\b\b\b\b\b\b\b\b\b\b\b\b\b\b\b\b\b\b\b\b\b\b\b\b\b\b\b\b\b\b\b\b\b\b\b\b\b\b\b\b\b\b\b\b\r42/42 [==============================] - 4s 92ms/step - loss: 0.1286 - accuracy: 0.9537 - val_loss: 0.4433 - val_accuracy: 0.8530 - lr: 0.0010\n",
            "Epoch 12/50\n",
            "42/42 [==============================] - ETA: 0s - loss: 0.0760 - accuracy: 0.9738"
          ]
        },
        {
          "output_type": "stream",
          "name": "stderr",
          "text": [
            "WARNING:tensorflow:Learning rate reduction is conditioned on metric `val_acc` which is not available. Available metrics are: loss,accuracy,val_loss,val_accuracy,lr\n"
          ]
        },
        {
          "output_type": "stream",
          "name": "stdout",
          "text": [
            "\b\b\b\b\b\b\b\b\b\b\b\b\b\b\b\b\b\b\b\b\b\b\b\b\b\b\b\b\b\b\b\b\b\b\b\b\b\b\b\b\b\b\b\b\b\b\b\b\b\b\b\b\b\b\b\b\b\b\b\b\b\b\b\b\b\b\b\b\b\b\b\b\b\b\b\b\b\b\b\b\b\b\r42/42 [==============================] - 4s 91ms/step - loss: 0.0760 - accuracy: 0.9738 - val_loss: 0.4763 - val_accuracy: 0.8455 - lr: 0.0010\n",
            "Epoch 13/50\n",
            "42/42 [==============================] - ETA: 0s - loss: 0.0620 - accuracy: 0.9765"
          ]
        },
        {
          "output_type": "stream",
          "name": "stderr",
          "text": [
            "WARNING:tensorflow:Learning rate reduction is conditioned on metric `val_acc` which is not available. Available metrics are: loss,accuracy,val_loss,val_accuracy,lr\n"
          ]
        },
        {
          "output_type": "stream",
          "name": "stdout",
          "text": [
            "\b\b\b\b\b\b\b\b\b\b\b\b\b\b\b\b\b\b\b\b\b\b\b\b\b\b\b\b\b\b\b\b\b\b\b\b\b\b\b\b\b\b\b\b\b\b\b\b\b\b\b\b\b\b\b\b\b\b\b\b\b\b\b\b\b\b\b\b\b\b\b\b\b\b\b\b\b\b\b\b\b\b\r42/42 [==============================] - 4s 91ms/step - loss: 0.0620 - accuracy: 0.9765 - val_loss: 0.7439 - val_accuracy: 0.8667 - lr: 0.0010\n",
            "Epoch 14/50\n",
            "42/42 [==============================] - ETA: 0s - loss: 0.0694 - accuracy: 0.9761"
          ]
        },
        {
          "output_type": "stream",
          "name": "stderr",
          "text": [
            "WARNING:tensorflow:Learning rate reduction is conditioned on metric `val_acc` which is not available. Available metrics are: loss,accuracy,val_loss,val_accuracy,lr\n"
          ]
        },
        {
          "output_type": "stream",
          "name": "stdout",
          "text": [
            "\b\b\b\b\b\b\b\b\b\b\b\b\b\b\b\b\b\b\b\b\b\b\b\b\b\b\b\b\b\b\b\b\b\b\b\b\b\b\b\b\b\b\b\b\b\b\b\b\b\b\b\b\b\b\b\b\b\b\b\b\b\b\b\b\b\b\b\b\b\b\b\b\b\b\b\b\b\b\b\b\b\b\r42/42 [==============================] - 4s 101ms/step - loss: 0.0694 - accuracy: 0.9761 - val_loss: 0.6116 - val_accuracy: 0.8576 - lr: 0.0010\n",
            "Epoch 15/50\n",
            "42/42 [==============================] - ETA: 0s - loss: 0.0795 - accuracy: 0.9723"
          ]
        },
        {
          "output_type": "stream",
          "name": "stderr",
          "text": [
            "WARNING:tensorflow:Learning rate reduction is conditioned on metric `val_acc` which is not available. Available metrics are: loss,accuracy,val_loss,val_accuracy,lr\n"
          ]
        },
        {
          "output_type": "stream",
          "name": "stdout",
          "text": [
            "\b\b\b\b\b\b\b\b\b\b\b\b\b\b\b\b\b\b\b\b\b\b\b\b\b\b\b\b\b\b\b\b\b\b\b\b\b\b\b\b\b\b\b\b\b\b\b\b\b\b\b\b\b\b\b\b\b\b\b\b\b\b\b\b\b\b\b\b\b\b\b\b\b\b\b\b\b\b\b\b\b\b\r42/42 [==============================] - 5s 107ms/step - loss: 0.0795 - accuracy: 0.9723 - val_loss: 0.8183 - val_accuracy: 0.8470 - lr: 0.0010\n",
            "Epoch 16/50\n",
            "42/42 [==============================] - ETA: 0s - loss: 0.1449 - accuracy: 0.9518"
          ]
        },
        {
          "output_type": "stream",
          "name": "stderr",
          "text": [
            "WARNING:tensorflow:Learning rate reduction is conditioned on metric `val_acc` which is not available. Available metrics are: loss,accuracy,val_loss,val_accuracy,lr\n"
          ]
        },
        {
          "output_type": "stream",
          "name": "stdout",
          "text": [
            "\b\b\b\b\b\b\b\b\b\b\b\b\b\b\b\b\b\b\b\b\b\b\b\b\b\b\b\b\b\b\b\b\b\b\b\b\b\b\b\b\b\b\b\b\b\b\b\b\b\b\b\b\b\b\b\b\b\b\b\b\b\b\b\b\b\b\b\b\b\b\b\b\b\b\b\b\b\b\b\b\b\b\r42/42 [==============================] - 4s 92ms/step - loss: 0.1449 - accuracy: 0.9518 - val_loss: 0.5662 - val_accuracy: 0.8515 - lr: 0.0010\n",
            "Epoch 17/50\n",
            "42/42 [==============================] - ETA: 0s - loss: 0.0630 - accuracy: 0.9791"
          ]
        },
        {
          "output_type": "stream",
          "name": "stderr",
          "text": [
            "WARNING:tensorflow:Learning rate reduction is conditioned on metric `val_acc` which is not available. Available metrics are: loss,accuracy,val_loss,val_accuracy,lr\n"
          ]
        },
        {
          "output_type": "stream",
          "name": "stdout",
          "text": [
            "\b\b\b\b\b\b\b\b\b\b\b\b\b\b\b\b\b\b\b\b\b\b\b\b\b\b\b\b\b\b\b\b\b\b\b\b\b\b\b\b\b\b\b\b\b\b\b\b\b\b\b\b\b\b\b\b\b\b\b\b\b\b\b\b\b\b\b\b\b\b\b\b\b\b\b\b\b\b\b\b\b\b\r42/42 [==============================] - 4s 94ms/step - loss: 0.0630 - accuracy: 0.9791 - val_loss: 0.9423 - val_accuracy: 0.8621 - lr: 0.0010\n",
            "Epoch 18/50\n",
            "42/42 [==============================] - ETA: 0s - loss: 0.1451 - accuracy: 0.9492"
          ]
        },
        {
          "output_type": "stream",
          "name": "stderr",
          "text": [
            "WARNING:tensorflow:Learning rate reduction is conditioned on metric `val_acc` which is not available. Available metrics are: loss,accuracy,val_loss,val_accuracy,lr\n"
          ]
        },
        {
          "output_type": "stream",
          "name": "stdout",
          "text": [
            "\b\b\b\b\b\b\b\b\b\b\b\b\b\b\b\b\b\b\b\b\b\b\b\b\b\b\b\b\b\b\b\b\b\b\b\b\b\b\b\b\b\b\b\b\b\b\b\b\b\b\b\b\b\b\b\b\b\b\b\b\b\b\b\b\b\b\b\b\b\b\b\b\b\b\b\b\b\b\b\b\b\b\r42/42 [==============================] - 4s 94ms/step - loss: 0.1451 - accuracy: 0.9492 - val_loss: 0.4913 - val_accuracy: 0.8318 - lr: 0.0010\n",
            "Epoch 19/50\n",
            "42/42 [==============================] - ETA: 0s - loss: 0.0800 - accuracy: 0.9750"
          ]
        },
        {
          "output_type": "stream",
          "name": "stderr",
          "text": [
            "WARNING:tensorflow:Learning rate reduction is conditioned on metric `val_acc` which is not available. Available metrics are: loss,accuracy,val_loss,val_accuracy,lr\n"
          ]
        },
        {
          "output_type": "stream",
          "name": "stdout",
          "text": [
            "\b\b\b\b\b\b\b\b\b\b\b\b\b\b\b\b\b\b\b\b\b\b\b\b\b\b\b\b\b\b\b\b\b\b\b\b\b\b\b\b\b\b\b\b\b\b\b\b\b\b\b\b\b\b\b\b\b\b\b\b\b\b\b\b\b\b\b\b\b\b\b\b\b\b\b\b\b\b\b\b\b\b\r42/42 [==============================] - 4s 93ms/step - loss: 0.0800 - accuracy: 0.9750 - val_loss: 0.4637 - val_accuracy: 0.8742 - lr: 0.0010\n",
            "Epoch 20/50\n",
            "42/42 [==============================] - ETA: 0s - loss: 0.0365 - accuracy: 0.9901"
          ]
        },
        {
          "output_type": "stream",
          "name": "stderr",
          "text": [
            "WARNING:tensorflow:Learning rate reduction is conditioned on metric `val_acc` which is not available. Available metrics are: loss,accuracy,val_loss,val_accuracy,lr\n"
          ]
        },
        {
          "output_type": "stream",
          "name": "stdout",
          "text": [
            "\b\b\b\b\b\b\b\b\b\b\b\b\b\b\b\b\b\b\b\b\b\b\b\b\b\b\b\b\b\b\b\b\b\b\b\b\b\b\b\b\b\b\b\b\b\b\b\b\b\b\b\b\b\b\b\b\b\b\b\b\b\b\b\b\b\b\b\b\b\b\b\b\b\b\b\b\b\b\b\b\b\b\r42/42 [==============================] - 4s 92ms/step - loss: 0.0365 - accuracy: 0.9901 - val_loss: 0.5437 - val_accuracy: 0.8788 - lr: 0.0010\n",
            "Epoch 21/50\n",
            "42/42 [==============================] - ETA: 0s - loss: 0.0161 - accuracy: 0.9947"
          ]
        },
        {
          "output_type": "stream",
          "name": "stderr",
          "text": [
            "WARNING:tensorflow:Learning rate reduction is conditioned on metric `val_acc` which is not available. Available metrics are: loss,accuracy,val_loss,val_accuracy,lr\n"
          ]
        },
        {
          "output_type": "stream",
          "name": "stdout",
          "text": [
            "\b\b\b\b\b\b\b\b\b\b\b\b\b\b\b\b\b\b\b\b\b\b\b\b\b\b\b\b\b\b\b\b\b\b\b\b\b\b\b\b\b\b\b\b\b\b\b\b\b\b\b\b\b\b\b\b\b\b\b\b\b\b\b\b\b\b\b\b\b\b\b\b\b\b\b\b\b\b\b\b\b\b\r42/42 [==============================] - 4s 91ms/step - loss: 0.0161 - accuracy: 0.9947 - val_loss: 0.6391 - val_accuracy: 0.8667 - lr: 0.0010\n",
            "Epoch 22/50\n",
            "42/42 [==============================] - ETA: 0s - loss: 0.0250 - accuracy: 0.9917"
          ]
        },
        {
          "output_type": "stream",
          "name": "stderr",
          "text": [
            "WARNING:tensorflow:Learning rate reduction is conditioned on metric `val_acc` which is not available. Available metrics are: loss,accuracy,val_loss,val_accuracy,lr\n"
          ]
        },
        {
          "output_type": "stream",
          "name": "stdout",
          "text": [
            "\b\b\b\b\b\b\b\b\b\b\b\b\b\b\b\b\b\b\b\b\b\b\b\b\b\b\b\b\b\b\b\b\b\b\b\b\b\b\b\b\b\b\b\b\b\b\b\b\b\b\b\b\b\b\b\b\b\b\b\b\b\b\b\b\b\b\b\b\b\b\b\b\b\b\b\b\b\b\b\b\b\b\r42/42 [==============================] - 4s 93ms/step - loss: 0.0250 - accuracy: 0.9917 - val_loss: 0.8799 - val_accuracy: 0.8485 - lr: 0.0010\n",
            "Epoch 23/50\n",
            "42/42 [==============================] - ETA: 0s - loss: 0.0327 - accuracy: 0.9894"
          ]
        },
        {
          "output_type": "stream",
          "name": "stderr",
          "text": [
            "WARNING:tensorflow:Learning rate reduction is conditioned on metric `val_acc` which is not available. Available metrics are: loss,accuracy,val_loss,val_accuracy,lr\n"
          ]
        },
        {
          "output_type": "stream",
          "name": "stdout",
          "text": [
            "\b\b\b\b\b\b\b\b\b\b\b\b\b\b\b\b\b\b\b\b\b\b\b\b\b\b\b\b\b\b\b\b\b\b\b\b\b\b\b\b\b\b\b\b\b\b\b\b\b\b\b\b\b\b\b\b\b\b\b\b\b\b\b\b\b\b\b\b\b\b\b\b\b\b\b\b\b\b\b\b\b\b\r42/42 [==============================] - 4s 92ms/step - loss: 0.0327 - accuracy: 0.9894 - val_loss: 0.6187 - val_accuracy: 0.8667 - lr: 0.0010\n",
            "Epoch 24/50\n",
            "42/42 [==============================] - ETA: 0s - loss: 0.0342 - accuracy: 0.9901"
          ]
        },
        {
          "output_type": "stream",
          "name": "stderr",
          "text": [
            "WARNING:tensorflow:Learning rate reduction is conditioned on metric `val_acc` which is not available. Available metrics are: loss,accuracy,val_loss,val_accuracy,lr\n"
          ]
        },
        {
          "output_type": "stream",
          "name": "stdout",
          "text": [
            "\b\b\b\b\b\b\b\b\b\b\b\b\b\b\b\b\b\b\b\b\b\b\b\b\b\b\b\b\b\b\b\b\b\b\b\b\b\b\b\b\b\b\b\b\b\b\b\b\b\b\b\b\b\b\b\b\b\b\b\b\b\b\b\b\b\b\b\b\b\b\b\b\b\b\b\b\b\b\b\b\b\b\r42/42 [==============================] - 4s 92ms/step - loss: 0.0342 - accuracy: 0.9901 - val_loss: 0.5187 - val_accuracy: 0.8576 - lr: 0.0010\n",
            "Epoch 25/50\n",
            "42/42 [==============================] - ETA: 0s - loss: 0.0097 - accuracy: 0.9970"
          ]
        },
        {
          "output_type": "stream",
          "name": "stderr",
          "text": [
            "WARNING:tensorflow:Learning rate reduction is conditioned on metric `val_acc` which is not available. Available metrics are: loss,accuracy,val_loss,val_accuracy,lr\n"
          ]
        },
        {
          "output_type": "stream",
          "name": "stdout",
          "text": [
            "\b\b\b\b\b\b\b\b\b\b\b\b\b\b\b\b\b\b\b\b\b\b\b\b\b\b\b\b\b\b\b\b\b\b\b\b\b\b\b\b\b\b\b\b\b\b\b\b\b\b\b\b\b\b\b\b\b\b\b\b\b\b\b\b\b\b\b\b\b\b\b\b\b\b\b\b\b\b\b\b\b\b\r42/42 [==============================] - 4s 92ms/step - loss: 0.0097 - accuracy: 0.9970 - val_loss: 0.6019 - val_accuracy: 0.8712 - lr: 0.0010\n",
            "Epoch 26/50\n",
            "42/42 [==============================] - ETA: 0s - loss: 0.0123 - accuracy: 0.9951"
          ]
        },
        {
          "output_type": "stream",
          "name": "stderr",
          "text": [
            "WARNING:tensorflow:Learning rate reduction is conditioned on metric `val_acc` which is not available. Available metrics are: loss,accuracy,val_loss,val_accuracy,lr\n"
          ]
        },
        {
          "output_type": "stream",
          "name": "stdout",
          "text": [
            "\b\b\b\b\b\b\b\b\b\b\b\b\b\b\b\b\b\b\b\b\b\b\b\b\b\b\b\b\b\b\b\b\b\b\b\b\b\b\b\b\b\b\b\b\b\b\b\b\b\b\b\b\b\b\b\b\b\b\b\b\b\b\b\b\b\b\b\b\b\b\b\b\b\b\b\b\b\b\b\b\b\b\r42/42 [==============================] - 4s 91ms/step - loss: 0.0123 - accuracy: 0.9951 - val_loss: 0.6596 - val_accuracy: 0.8667 - lr: 0.0010\n",
            "Epoch 27/50\n",
            "36/42 [========================>.....] - ETA: 0s - loss: 0.0307 - accuracy: 0.9896"
          ]
        }
      ]
    },
    {
      "cell_type": "code",
      "source": [
        "plt.plot(history.history['accuracy'])\n",
        "plt.plot(history.history['val_accuracy'])\n",
        "\n",
        "plt.title('Model Accuracy')\n",
        "plt.ylabel('Accuracy')\n",
        "plt.xlabel('Epochs')\n",
        "\n",
        "plt.legend(['Train', 'Val'], loc='upper left')\n",
        "plt.show()\n",
        "\n",
        "\n",
        "plt.plot(history.history['loss'])\n",
        "plt.plot(history.history['val_loss'])\n",
        "plt.title('Model Loss')\n",
        "plt.ylabel('Loss')\n",
        "plt.xlabel('Epochs')\n",
        "\n",
        "plt.legend(['Train', 'Val'], loc='upper left')\n",
        "plt.show()"
      ],
      "metadata": {
        "id": "VHJqmmVtgRaQ"
      },
      "execution_count": null,
      "outputs": []
    },
    {
      "cell_type": "code",
      "source": [
        "import tensorflow as tf\n",
        "tf.keras.utils.plot_model(model_cnn)"
      ],
      "metadata": {
        "id": "ee8zb6xZgGnO"
      },
      "execution_count": null,
      "outputs": []
    },
    {
      "cell_type": "code",
      "source": [
        "import numpy as np\n",
        "import matplotlib.pyplot as plt\n",
        "\n",
        "\n",
        "# creating the dataset\n",
        "data = { 'CNN ':98 , 'EfficientNET':99}\n",
        "courses = list(data.keys())\n",
        "values = list(data.values())\n",
        "\n",
        "fig = plt.figure(figsize = (10, 5))\n",
        "\n",
        "# creating the bar plot\n",
        "plt.bar(courses, values, color ='orange',\n",
        "        width = 0.4)\n",
        "\n",
        "plt.xlabel(\"Architectures used\")\n",
        "plt.ylabel(\"Accuracy\")\n",
        "plt.title(\"Accuracies of different Methods  in train data\")\n",
        "plt.show()"
      ],
      "metadata": {
        "id": "9hmcbNOwgM05"
      },
      "execution_count": null,
      "outputs": []
    },
    {
      "cell_type": "code",
      "source": [
        "import numpy as np\n",
        "import matplotlib.pyplot as plt\n",
        "\n",
        "\n",
        "# creating the dataset\n",
        "data = { 'CNN ':75,  'EfficientNET ':79}\n",
        "courses = list(data.keys())\n",
        "values = list(data.values())\n",
        "\n",
        "fig = plt.figure(figsize = (10, 5))\n",
        "\n",
        "# creating the bar plot\n",
        "plt.bar(courses, values, color ='orange',\n",
        "        width = 0.4)\n",
        "\n",
        "plt.xlabel(\"Architectures used\")\n",
        "plt.ylabel(\"Accuracy\")\n",
        "plt.title(\"Accuracies of different Methods  in test data\")\n",
        "plt.show()"
      ],
      "metadata": {
        "id": "zleI-KidhqBM"
      },
      "execution_count": null,
      "outputs": []
    },
    {
      "cell_type": "code",
      "source": [
        "import cv2"
      ],
      "metadata": {
        "id": "m8iE57Soht-6"
      },
      "execution_count": null,
      "outputs": []
    },
    {
      "cell_type": "code",
      "source": [
        "a=cv2.imread('/content/m.jpeg')"
      ],
      "metadata": {
        "id": "JwfMWrEXiuf-"
      },
      "execution_count": null,
      "outputs": []
    },
    {
      "cell_type": "code",
      "source": [
        "#shape of input image\n",
        "a.shape"
      ],
      "metadata": {
        "id": "C09uGdDhiuX9"
      },
      "execution_count": null,
      "outputs": []
    },
    {
      "cell_type": "code",
      "source": [
        "#reading image\n",
        "import tensorflow as tf\n",
        "from tensorflow.keras.applications.resnet50 import preprocess_input, decode_predictions\n",
        "from tensorflow.keras.preprocessing import image\n",
        "img = image.load_img('/content/m.jpeg', target_size=(32, 32))"
      ],
      "metadata": {
        "id": "rJaU34lziuVI"
      },
      "execution_count": null,
      "outputs": []
    },
    {
      "cell_type": "code",
      "source": [
        "#converting predicting image to numpy array\n",
        "img_array = image.img_to_array(img)\n",
        "#print(img_array)\n",
        "#filling the dimensions which are empty\n",
        "img_batch = np.expand_dims(img_array, axis=0)\n",
        "print(img_batch)"
      ],
      "metadata": {
        "id": "6oq8WOHkiuSU"
      },
      "execution_count": null,
      "outputs": []
    },
    {
      "cell_type": "code",
      "source": [
        "#highlighing the image details by converting RGB TO BGR\n",
        "img_preprocessed = preprocess_input(img_batch)\n",
        "print(img_preprocessed)"
      ],
      "metadata": {
        "id": "4HcoHEDkiuPl"
      },
      "execution_count": null,
      "outputs": []
    },
    {
      "cell_type": "code",
      "source": [
        "a=history.model.predict(img_preprocessed)"
      ],
      "metadata": {
        "id": "wAyevRukiuM3"
      },
      "execution_count": null,
      "outputs": []
    },
    {
      "cell_type": "code",
      "source": [
        "print(a)"
      ],
      "metadata": {
        "id": "nrPRgujsiuH1"
      },
      "execution_count": null,
      "outputs": []
    },
    {
      "cell_type": "code",
      "source": [
        "def classify(a):\n",
        "  if (a[0][0]==1 and a[0][1]==0):\n",
        "    print(\"benign\")\n",
        "  else:\n",
        "    print(\"malignant\")"
      ],
      "metadata": {
        "id": "tEd21nmEiuE4"
      },
      "execution_count": null,
      "outputs": []
    },
    {
      "cell_type": "code",
      "source": [
        "print(classify(a))"
      ],
      "metadata": {
        "id": "J6cjuRUhk-Ua"
      },
      "execution_count": null,
      "outputs": []
    },
    {
      "cell_type": "code",
      "source": [],
      "metadata": {
        "id": "h0X_nKDeoANO"
      },
      "execution_count": null,
      "outputs": []
    }
  ],
  "metadata": {
    "colab": {
      "provenance": []
    },
    "kernelspec": {
      "display_name": "Python 3",
      "name": "python3"
    },
    "language_info": {
      "name": "python"
    },
    "accelerator": "GPU",
    "gpuClass": "standard"
  },
  "nbformat": 4,
  "nbformat_minor": 0
}